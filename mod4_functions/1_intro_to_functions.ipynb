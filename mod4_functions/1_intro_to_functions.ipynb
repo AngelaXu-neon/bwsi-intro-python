{
 "cells": [
  {
   "cell_type": "markdown",
   "metadata": {},
   "source": [
    "# Functions: Introduction to Functions"
   ]
  },
  {
   "cell_type": "markdown",
   "metadata": {},
   "source": [
    "Functional programming is very powerful. Functions allow us to package many lines of code together such that we can execute many steps with just one function call."
   ]
  },
  {
   "cell_type": "markdown",
   "metadata": {},
   "source": [
    "## Naming Conventions"
   ]
  },
  {
   "cell_type": "markdown",
   "metadata": {},
   "source": [
    "### Silas -- please reiterate the importance of descriptive variable (in this case function) names"
   ]
  },
  {
   "cell_type": "markdown",
   "metadata": {},
   "source": [
    "## Using `return`"
   ]
  },
  {
   "cell_type": "markdown",
   "metadata": {},
   "source": [
    "### Shreya -- please write up a the basic functions outlined below using markdown/code cells as needed!\n",
    "- `greet_user`-- input `user_name` and print \"Hello, `user_name`!\" with no return statement\n",
    "- `convert_min_to_sec` -- input `time_min` and `return` the time in minutes by calling `time_min = convert_min_to_sec(time_sec)`\n",
    "\n",
    "Please highlight the difference between using `return` and just outputting a result using `print`"
   ]
  },
  {
   "cell_type": "markdown",
   "metadata": {},
   "source": [
    "Let's try writing our very first function. It's going to help us generate personalized greetings based on our user_name"
   ]
  },
  {
   "cell_type": "code",
   "execution_count": 1,
   "metadata": {},
   "outputs": [
    {
     "name": "stdout",
     "output_type": "stream",
     "text": [
      "Hello, Shreya!\n"
     ]
    }
   ],
   "source": [
    "def greet_user(user_name):\n",
    "    print(\"Hello, \" + user_name + \"!\")\n",
    "greet_user(\"Shreya\")"
   ]
  },
  {
   "cell_type": "markdown",
   "metadata": {},
   "source": [
    "Even though the previous cell gave us an output, let's see when we try to save our personalized greeting in a variable to use later. "
   ]
  },
  {
   "cell_type": "code",
   "execution_count": 2,
   "metadata": {},
   "outputs": [
    {
     "name": "stdout",
     "output_type": "stream",
     "text": [
      "Hello, Shreya!\n",
      "None\n"
     ]
    }
   ],
   "source": [
    "welcome = greet_user(\"Shreya\")\n",
    "print(welcome)"
   ]
  },
  {
   "cell_type": "markdown",
   "metadata": {},
   "source": [
    "Notice how the welcome variable has value None that means that welcome had no clue what happened when greet_user ran. In order to save the results from running our functions we need to make sure to add a return statement."
   ]
  },
  {
   "cell_type": "code",
   "execution_count": 3,
   "metadata": {},
   "outputs": [
    {
     "data": {
      "text/plain": [
       "720"
      ]
     },
     "execution_count": 3,
     "metadata": {},
     "output_type": "execute_result"
    }
   ],
   "source": [
    "def convert_min_to_sec(time_min):\n",
    "    return (time_min * 60)\n",
    "convert_min_to_sec(12)"
   ]
  },
  {
   "cell_type": "markdown",
   "metadata": {},
   "source": [
    "It looks like our function is converting correctly, but let's trying saving the result in a varaible again. "
   ]
  },
  {
   "cell_type": "code",
   "execution_count": 4,
   "metadata": {},
   "outputs": [
    {
     "name": "stdout",
     "output_type": "stream",
     "text": [
      "540\n"
     ]
    }
   ],
   "source": [
    "time_sec = convert_min_to_sec(9)\n",
    "print(time_sec)"
   ]
  },
  {
   "cell_type": "markdown",
   "metadata": {},
   "source": [
    "Looks like we correctly saving the results from our conversion calculation!"
   ]
  },
  {
   "cell_type": "markdown",
   "metadata": {},
   "source": [
    "## Using Loops and Conditional Statements in Functions"
   ]
  },
  {
   "cell_type": "markdown",
   "metadata": {},
   "source": [
    "### Shreya -- Please write up the following:\n",
    "- Quick overview of why combining loops/conditions with functions is really powerful and useful\n",
    "- 2-3 example functions with descriptive names and commments that use the concepts from Module 3 with blurbs as needed"
   ]
  },
  {
   "cell_type": "markdown",
   "metadata": {},
   "source": [
    "Now let's try to combine our new knowledge of functions with the control flow (loops and conditional statements) we learned about last week."
   ]
  },
  {
   "cell_type": "markdown",
   "metadata": {},
   "source": [
    "Last week we looked at using a conditonal statement to determine if a number was divisible by another number. Let's say that we are trying to plan a movie night you are hosting for your friends. "
   ]
  },
  {
   "cell_type": "markdown",
   "metadata": {},
   "source": [
    "We want to find dates where you and your two best friends are all free. Let's represent each person's available dates as a list."
   ]
  },
  {
   "cell_type": "code",
   "execution_count": 16,
   "metadata": {},
   "outputs": [
    {
     "name": "stdout",
     "output_type": "stream",
     "text": [
      "[21, 25]\n",
      "[21]\n"
     ]
    }
   ],
   "source": [
    "def find_good_choices(you, friend1, friend2):\n",
    "    good_choices = []\n",
    "    for date in you:\n",
    "        # notice how date appears twice in this condition\n",
    "        if (date in friend1 and date in friend2):\n",
    "            good_choices.append(date)\n",
    "    return good_choices\n",
    "Sally_choices = [3, 8, 12, 16, 18, 21, 22, 25, 27, 30]\n",
    "Samantha_choices = [1, 4, 12, 17, 20, 21, 24, 25, 26, 28]\n",
    "Susan_choices = [3, 5, 7, 9, 15, 18, 21, 22, 23, 25, 26, 27, 29]\n",
    "May_choices = find_good_choices(Sally_choices, Samantha_choices, Susan_choices)\n",
    "print(May_choices)\n",
    "Samantha_choices = [1, 4, 20, 21, 24, 25, 26, 28]\n",
    "Susan_choices = [3, 5, 7, 9, 15, 18, 21, 22, 23, 26, 27, 29]\n",
    "print(find_good_choices(Sally_choices, Samantha_choices, Susan_choices))\n"
   ]
  },
  {
   "cell_type": "markdown",
   "metadata": {},
   "source": [
    "Sweet! Using a function allows us to find a good date each month by simply calling the find_good_choices function, instead of reti\n",
    "Now let's try to customize our invitation based on what availability we found. "
   ]
  },
  {
   "cell_type": "code",
   "execution_count": 18,
   "metadata": {},
   "outputs": [
    {
     "data": {
      "text/plain": [
       "\"LeT's MeEt on the 21 Susan & Sally\""
      ]
     },
     "execution_count": 18,
     "metadata": {},
     "output_type": "execute_result"
    }
   ],
   "source": [
    "def customize_invite(choices, friend1, friend2):\n",
    "    if len(choices) == 0:\n",
    "        return(\"Unfortunately, there's no good date this month. Let's try again next month!\")\n",
    "    else:\n",
    "        # since our list of choices is made up of integers we need to covert them to strings before we concatenate\n",
    "        return(\"LeT's MeEt on the \" + str(choices[0]) + \" \" + friend1 + \" & \" + friend2)\n",
    "# Notice Susan and Sally are strings here\n",
    "customize_invite(May_choices, \"Susan\", \"Sally\")"
   ]
  },
  {
   "cell_type": "markdown",
   "metadata": {},
   "source": [
    "Our invitation looks pretty good, but as a challenge try to represent the date closer to spoken English. For example, 21st, 22nd, or 23rd, etc."
   ]
  },
  {
   "cell_type": "markdown",
   "metadata": {},
   "source": [
    "Now that we created a customize_invite function, we can reuse it from month to month when we send out invitations or if someone's availability changes, we can generate a new invitation with one line of code!"
   ]
  },
  {
   "cell_type": "markdown",
   "metadata": {},
   "source": [
    "A couple of important notes. 1. As a programmer you need to know the type of inputs in your fucntions. 2. Function arguments are positional. We would get an error if we accidentally mixed up the arguments to this function."
   ]
  },
  {
   "cell_type": "code",
   "execution_count": 19,
   "metadata": {},
   "outputs": [
    {
     "ename": "TypeError",
     "evalue": "can only concatenate str (not \"list\") to str",
     "output_type": "error",
     "traceback": [
      "\u001b[1;31m---------------------------------------------------------------------------\u001b[0m",
      "\u001b[1;31mTypeError\u001b[0m                                 Traceback (most recent call last)",
      "Cell \u001b[1;32mIn[19], line 1\u001b[0m\n\u001b[1;32m----> 1\u001b[0m \u001b[43mcustomize_invite\u001b[49m\u001b[43m(\u001b[49m\u001b[38;5;124;43m\"\u001b[39;49m\u001b[38;5;124;43mSusan\u001b[39;49m\u001b[38;5;124;43m\"\u001b[39;49m\u001b[43m,\u001b[49m\u001b[43m \u001b[49m\u001b[38;5;124;43m\"\u001b[39;49m\u001b[38;5;124;43mSally\u001b[39;49m\u001b[38;5;124;43m\"\u001b[39;49m\u001b[43m,\u001b[49m\u001b[43m \u001b[49m\u001b[43mMay_choices\u001b[49m\u001b[43m)\u001b[49m\n",
      "Cell \u001b[1;32mIn[18], line 6\u001b[0m, in \u001b[0;36mcustomize_invite\u001b[1;34m(choices, friend1, friend2)\u001b[0m\n\u001b[0;32m      3\u001b[0m     \u001b[38;5;28;01mreturn\u001b[39;00m(\u001b[38;5;124m\"\u001b[39m\u001b[38;5;124mUnfortunately, there\u001b[39m\u001b[38;5;124m'\u001b[39m\u001b[38;5;124ms no good date this month. Let\u001b[39m\u001b[38;5;124m'\u001b[39m\u001b[38;5;124ms try again next month!\u001b[39m\u001b[38;5;124m\"\u001b[39m)\n\u001b[0;32m      4\u001b[0m \u001b[38;5;28;01melse\u001b[39;00m:\n\u001b[0;32m      5\u001b[0m     \u001b[38;5;66;03m# since our list of choices is made up of integers we need to covert them to strings before we concatenate\u001b[39;00m\n\u001b[1;32m----> 6\u001b[0m     \u001b[38;5;28;01mreturn\u001b[39;00m(\u001b[38;5;124;43m\"\u001b[39;49m\u001b[38;5;124;43mLeT\u001b[39;49m\u001b[38;5;124;43m'\u001b[39;49m\u001b[38;5;124;43ms MeEt on the \u001b[39;49m\u001b[38;5;124;43m\"\u001b[39;49m\u001b[43m \u001b[49m\u001b[38;5;241;43m+\u001b[39;49m\u001b[43m \u001b[49m\u001b[38;5;28;43mstr\u001b[39;49m\u001b[43m(\u001b[49m\u001b[43mchoices\u001b[49m\u001b[43m[\u001b[49m\u001b[38;5;241;43m0\u001b[39;49m\u001b[43m]\u001b[49m\u001b[43m)\u001b[49m\u001b[43m \u001b[49m\u001b[38;5;241;43m+\u001b[39;49m\u001b[43m \u001b[49m\u001b[38;5;124;43m\"\u001b[39;49m\u001b[38;5;124;43m \u001b[39;49m\u001b[38;5;124;43m\"\u001b[39;49m\u001b[43m \u001b[49m\u001b[38;5;241;43m+\u001b[39;49m\u001b[43m \u001b[49m\u001b[43mfriend1\u001b[49m\u001b[43m \u001b[49m\u001b[38;5;241;43m+\u001b[39;49m\u001b[43m \u001b[49m\u001b[38;5;124;43m\"\u001b[39;49m\u001b[38;5;124;43m & \u001b[39;49m\u001b[38;5;124;43m\"\u001b[39;49m\u001b[43m \u001b[49m\u001b[38;5;241;43m+\u001b[39;49m\u001b[43m \u001b[49m\u001b[43mfriend2\u001b[49m)\n",
      "\u001b[1;31mTypeError\u001b[0m: can only concatenate str (not \"list\") to str"
     ]
    }
   ],
   "source": [
    "customize_invite(\"Susan\", \"Sally\", May_choices)"
   ]
  }
 ],
 "metadata": {
  "kernelspec": {
   "display_name": "base",
   "language": "python",
   "name": "python3"
  },
  "language_info": {
   "codemirror_mode": {
    "name": "ipython",
    "version": 3
   },
   "file_extension": ".py",
   "mimetype": "text/x-python",
   "name": "python",
   "nbconvert_exporter": "python",
   "pygments_lexer": "ipython3",
   "version": "3.12.3"
  }
 },
 "nbformat": 4,
 "nbformat_minor": 2
}
