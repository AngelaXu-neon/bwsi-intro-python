{
 "cells": [
  {
   "cell_type": "markdown",
   "metadata": {},
   "source": [
    "# Functions: Introduction to Functions"
   ]
  },
  {
   "cell_type": "markdown",
   "metadata": {},
   "source": [
    "Functional programming is very powerful. Functions allow us to package many lines of code together such that we can execute many steps with just one function call."
   ]
  },
  {
   "cell_type": "markdown",
   "metadata": {},
   "source": [
    "## Naming Conventions"
   ]
  },
  {
   "cell_type": "markdown",
   "metadata": {},
   "source": [
    "### Silas -- please reiterate the importance of descriptive variable (in this case function) names"
   ]
  },
  {
   "cell_type": "markdown",
   "metadata": {},
   "source": [
    "## Using `return`"
   ]
  },
  {
   "cell_type": "markdown",
   "metadata": {},
   "source": [
    "### Shreya -- please write up a the basic functions outlined below using markdown/code cells as needed!\n",
    "- `greet_user`-- input `user_name` and print \"Hello, `user_name`!\" with no return statement\n",
    "- `convert_min_to_sec` -- input `time_min` and `return` the time in minutes by calling `time_min = convert_min_to_sec(time_sec)`\n",
    "\n",
    "Please highlight the difference between using `return` and just outputting a result using `print`"
   ]
  },
  {
   "cell_type": "markdown",
   "metadata": {},
   "source": [
    "## Using Loops and Conditional Statements in Functions"
   ]
  },
  {
   "cell_type": "markdown",
   "metadata": {},
   "source": [
    "### Shreya -- Please write up the following:\n",
    "- Quick overview of why combining loops/conditions with functions is really powerful and useful\n",
    "- 2-3 example functions with descriptive names and commments that use the concepts from Module 3 with blurbs as needed"
   ]
  }
 ],
 "metadata": {
  "language_info": {
   "name": "python"
  }
 },
 "nbformat": 4,
 "nbformat_minor": 2
}
