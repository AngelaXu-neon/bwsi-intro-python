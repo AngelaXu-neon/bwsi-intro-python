{
 "cells": [
  {
   "cell_type": "markdown",
   "metadata": {},
   "source": [
    "# Functions: Best Practices for Functional Programming\n",
    "Please follow the instructions and uncomment the skeleton code as necessary.\n",
    "\n",
    "This assignment is due in addition to the small group assignment before the next class"
   ]
  },
  {
   "cell_type": "markdown",
   "metadata": {},
   "source": [
    "## When to Functionalize"
   ]
  },
  {
   "cell_type": "markdown",
   "metadata": {},
   "source": [
    "- when there is redundancy in code: are you copy/pasting the same lines of code over and over?\n",
    "- when you need to do the same processing in different places\n",
    "- readability/complexity/reusability (last section)\n",
    "- flexibility/testability (next section)"
   ]
  },
  {
   "cell_type": "markdown",
   "metadata": {},
   "source": [
    "## Code Flexibilty\n",
    "\n",
    "- allows you to \"toggle\" behaviors on and off\n",
    "- set default arguments\n",
    "- avoid hardcoding --> increase flexibility and decrease likelihood for bugs "
   ]
  },
  {
   "cell_type": "markdown",
   "metadata": {},
   "source": [
    "## When to Divide into Smaller Functions\n",
    "\n",
    "Practically, shorter functions are also easier to maintain, test, and debug if something breaks! Comments are wonderful, but if you find yourself writing long/multiline comments or creating sections using comments it might be time to package parts of the code as their own functions. Redundancy or increasing numbers of conditions are also signs that you should consider breaking up your code.\n",
    "\n",
    "Consider the pseudocode below: \n",
    "```python\n",
    "def very_long_function(input1, input2, ...)\n",
    "    # long setup\n",
    "    ...\n",
    "\n",
    "    ## very long for loop\n",
    "    for i in iterations:\n",
    "        ## multi conditional logic\n",
    "        if condition1:\n",
    "            # do lots of stuff\n",
    "            ...\n",
    "        elif condition2:\n",
    "            # do lots of stuff\n",
    "            ...\n",
    "        elif condition3:\n",
    "            # do lots of stuff\n",
    "            ...\n",
    "        else:\n",
    "            # do lots of stuff\n",
    "            ...\n",
    "\n",
    "        # do even more stuff\n",
    "        ...\n",
    "    \n",
    "    ## output results\n",
    "    print(result1)\n",
    "    print(result2)\n",
    "\n",
    "    # format result3 using fstring\n",
    "    print(f\"{result3} is the third result\")\n",
    "    ...\n",
    "\n",
    "    ## save results\n",
    "    # create file paths\n",
    "    file_path1 = \"some/file/path/here\"\n",
    "    file_path2 = \"some/file/path/here\"\n",
    "\n",
    "    # save results 7,8, ... to txt files\n",
    "    np.savetxt(file_path1, result7)\n",
    "    np.savetxt(file_path2, result8)\n",
    "    ...\n",
    "\n",
    "```\n",
    "\n",
    "The code is well commented, but will become difficult to maintain if additional calculations are needed. "
   ]
  },
  {
   "cell_type": "markdown",
   "metadata": {},
   "source": [
    "Below is an alternative version of `very_long_function`:\n",
    "\n",
    "```python\n",
    "def much_shorter_function(input1, input2, ...)\n",
    "    # setup\n",
    "    a,b = preprocess_inputs(input1, input2, ...)\n",
    "\n",
    "    # much cleaner for loop\n",
    "    for i in iterations:\n",
    "        # first processing step\n",
    "        c = handle_logic_tree(a,b)\n",
    "\n",
    "        # second processing step\n",
    "        d,e,f = do_even_more_stuff(c)\n",
    "        ...\n",
    "    \n",
    "    print_results(results)\n",
    "    save_results(results)\n",
    "\n",
    "def handle_logic_tree(a,b):\n",
    "    if condition1:\n",
    "        return do_lots_of_stuff(a,b)\n",
    "    elif condition2:\n",
    "        return do_lots_of_stuff(a,b)\n",
    "    elif condition3:\n",
    "        return do_lots_of_stuff(a,b)\n",
    "    else:\n",
    "        return do_lots_of_stuff(a,b)\n",
    "\n",
    "...\n",
    "```\n",
    "\n",
    "This structure provides much more organization, which **increases the code's readability** while **decreasing its complexity.**\n",
    "\n",
    "This also allows us to use any of the helper functions (like `print_results` or `save_results`) as needed outside of `much_shorter_function`. In other words, smaller fucntions increase **reusability**."
   ]
  }
 ],
 "metadata": {
  "kernelspec": {
   "display_name": "base",
   "language": "python",
   "name": "python3"
  },
  "language_info": {
   "name": "python",
   "version": "3.12.8"
  }
 },
 "nbformat": 4,
 "nbformat_minor": 2
}
