{
 "cells": [
  {
   "cell_type": "markdown",
   "metadata": {},
   "source": [
    "# Introduction to Data Science: Loading and Visualizing Data"
   ]
  },
  {
   "cell_type": "code",
   "metadata": {},
   "source": [
    "import numpy as np\n",
    "import pandas as pd\n",
    "import matplotlib.pyplot as plt"
   ],
   "outputs": [],
   "execution_count": null
  },
  {
   "cell_type": "markdown",
   "metadata": {},
   "source": [
    "## Loading Data\n",
    "### Loading Numeric Data with NumPy"
   ]
  },
  {
   "cell_type": "code",
   "metadata": {},
   "source": [
    "x,y = np.loadtxt('./data/linear_data.txt', unpack=True)\n",
    "print(x, y)"
   ],
   "outputs": [],
   "execution_count": null
  },
  {
   "metadata": {},
   "cell_type": "markdown",
   "source": [
    "#### The Delimiter Argument\n",
    "\n",
    "A `delimiter` in Python is an argument that we pass to NumPy functions working with text files, like `numpy.loadtxt()` or `numpy.genfromtxt()`. The `delimiter` specifies which character separates the values in the text file we are using.\n",
    "\n",
    "Common delimiters include:\n",
    "- Commas `,`\n",
    "- Tabs `\\t`\n",
    "- Spaces `\" \"`\n",
    "\n",
    "Here is an example of how we would specify a delimiter:\n",
    "\n"
   ]
  },
  {
   "metadata": {},
   "cell_type": "code",
   "source": [
    "# Our data file has comma separated values (csv), so we specify a comma for our delimiter.\n",
    "# This is just a syntax example; example_data.csv does not exist.\n",
    "data = np.loadtxt('example_data.csv', delimiter=',')"
   ],
   "outputs": [],
   "execution_count": null
  },
  {
   "metadata": {},
   "cell_type": "markdown",
   "source": [
    "#### What if we want to analyze non-numeric or mixed type data? \n",
    "\n",
    "The `numpy.loadtx()` function is ideally used with numerical data. For non-numeric or mixed type data, we can use `numpy.genfromtxt()`, which allows us to specify the data type that will be assigned to our data. We pass it the name of our data file, a delimiter, and a data type, `dtype`. If we have multiple data types in our file, we can set `dtype` to `None` and NumPy will figure out the data types for us.\n",
    "\n",
    "In the following examples, note the format of the data when we print it. Look familiar? In these NumPy functions, the data is stored in a NumPy array, which we saw in module 2!  "
   ]
  },
  {
   "metadata": {},
   "cell_type": "code",
   "source": [
    "# Our file has mixed data types, so we set 'dtype' to None.\n",
    "mixed_data = np.genfromtxt('data/example_mixed_data.csv', delimiter=',', dtype=None)\n",
    "print(mixed_data)"
   ],
   "outputs": [],
   "execution_count": null
  },
  {
   "metadata": {},
   "cell_type": "code",
   "source": [
    "# We haven't specified 'dtype' so our function defaults to numeric data type\n",
    "# Now the strings in our data are classified as 'nan' (not a number)\n",
    "incorrect_mixed_data = np.genfromtxt('data/example_mixed_data.csv', delimiter=',')\n",
    "print(incorrect_mixed_data)"
   ],
   "outputs": [],
   "execution_count": null
  },
  {
   "cell_type": "markdown",
   "metadata": {},
   "source": [
    "## Pandas DataFrames\n",
    "\n",
    "#### Tabular Data with Pandas\n",
    "\n",
    "Pandas DataFrames are an extremely powerful tool for analyzing data!\n",
    "\n",
    "In Pandas, the data is stored in a structure called a `DataFrame` instead of a NumPy array. \n",
    "\n",
    "Not only will Pandas automatically infer our data types, it will also automatically set the names of our columns using the first row of the data file. \n",
    "We can read in our data with Pandas like this:"
   ]
  },
  {
   "cell_type": "code",
   "metadata": {},
   "source": [
    "# WINDOWS PATH\n",
    "#staff_data = pd.read_csv('.\\data\\fall2024_python_staff.csv')\n",
    "\n",
    "# MAC PATH\n",
    "staff_data = pd.read_csv('./data/fall2024_python_staff.csv')"
   ],
   "outputs": [],
   "execution_count": null
  },
  {
   "cell_type": "code",
   "metadata": {},
   "source": [
    "staff_data"
   ],
   "outputs": [],
   "execution_count": null
  },
  {
   "metadata": {},
   "cell_type": "markdown",
   "source": [
    "#### Other Pandas Data Functions\n",
    "\n",
    "`pd.read_csv` can work with other types of delimiters, not just commas. To do this, we simply specify what delimiter we are using in the function. In `pd.read_csv`, the delimiter is called `sep`, as in what is separating the data. "
   ]
  },
  {
   "metadata": {},
   "cell_type": "code",
   "source": [
    "# Specify that our values are separated by tabs.\n",
    "# This is just a syntax example; example_data.tsv does not exist.\n",
    "tab_data = pd.read_csv('example_data.tsv', sep='\\t')"
   ],
   "outputs": [],
   "execution_count": null
  },
  {
   "metadata": {},
   "cell_type": "markdown",
   "source": "Pandas has other functions for parsing more complex file types. For example, when working with Excel spreadsheets, we can use the Pandas function `pd.read_excel` like this:"
  },
  {
   "metadata": {},
   "cell_type": "code",
   "source": [
    "# Read in data from an Excel spreadsheet. Specify which page of the spreadsheet.\n",
    "# This is just a syntax example; excel_data.xlsx does not exist.\n",
    "excel_data = pd.read_excel('excel_data.xlsx', sheet_name='Sheet1')"
   ],
   "outputs": [],
   "execution_count": null
  },
  {
   "metadata": {},
   "cell_type": "markdown",
   "source": [
    "## Indexing DataFrames\n",
    "\n",
    "\n",
    "#### Data Locating: `loc` versus `iloc` \n",
    "\n",
    "There are two ways we can access specific data from our Pandas `DataFrame`:\n",
    "1. `loc`: location of data by column name\n",
    "2. `iloc`: location of data by column index\n",
    "\n",
    "For both `loc` and `iloc`, we specify row then column. This will locate one specific data point in the `DataFrame`."
   ]
  },
  {
   "metadata": {},
   "cell_type": "code",
   "source": [
    "# Row 4 is 'Silas', and column 2 is 'major'.\n",
    "row_by_label = staff_data.loc[4, 'major']   # data from row index, column name\n",
    "row_by_index = staff_data.iloc[4, 2]        # data from row index, column index\n",
    "\n",
    "print(\"Using loc:\", row_by_label)\n",
    "print(\"Using iloc:\", row_by_index)"
   ],
   "outputs": [],
   "execution_count": null
  },
  {
   "metadata": {},
   "cell_type": "markdown",
   "source": [
    "#### Accessing Data from an Entire Column\n",
    "\n",
    "To access the data from an entire column, we can use dot notation or bracket notation.\n",
    "\n",
    "- *Dot notation*: If a column has a name with no spaces or special characters, we can access it like an attribute.\n",
    "- *Bracket notation*: For any column name, with or without spaces or special characters, we can put the column name in brackets.\n",
    "\n",
    "Let's look at how we would use both these notations to access the first names from our staff data:"
   ]
  },
  {
   "metadata": {
    "ExecuteTime": {
     "end_time": "2024-11-05T16:44:10.723992Z",
     "start_time": "2024-11-05T16:44:10.721570Z"
    }
   },
   "cell_type": "code",
   "source": [
    "# Dot notation\n",
    "first_names_dot = staff_data.first_name\n",
    "#print(first_names_dot)\n",
    "\n",
    "# Bracket notation\n",
    "first_names_bracket = staff_data[\"first_name\"]\n",
    "#print(first_names_bracket)"
   ],
   "outputs": [],
   "execution_count": 43
  },
  {
   "metadata": {},
   "cell_type": "markdown",
   "source": [
    "#### Accessing Data from Multiple Columns\n",
    "\n",
    "To access data from multiple columns, we can use brackets to specify row(s) then column(s). Like arrays, we can specify all rows/columns by using `:` as the index.\n",
    "\n",
    "Let's look at a couple examples. In the first example, we print all staff's first and last names. By putting `:` as our row index, we access all rows. For columns, we specify the column names `first_name` and `last_name` in brackets. In the second example, we want the first and last names for only Peter and Shreya, so we pass `[2, 3]` instead of `:` as rows. \n",
    "\n"
   ]
  },
  {
   "metadata": {
    "ExecuteTime": {
     "end_time": "2024-11-05T16:43:16.536725Z",
     "start_time": "2024-11-05T16:43:16.531838Z"
    }
   },
   "cell_type": "code",
   "source": [
    "# Access all full names from staff data using 'loc'\n",
    "full_names = staff_data.loc[:, [\"first_name\", \"last_name\"]]\n",
    "print(full_names)"
   ],
   "outputs": [
    {
     "name": "stdout",
     "output_type": "stream",
     "text": [
      "  first_name  last_name\n",
      "0     Kallee    Gallant\n",
      "1       Abby   Pitcairn\n",
      "2      Peter     Fitton\n",
      "3     Shreya      Singh\n",
      "4      Silas  Pillsbury\n"
     ]
    }
   ],
   "execution_count": 39
  },
  {
   "metadata": {
    "ExecuteTime": {
     "end_time": "2024-11-05T16:43:45.707839Z",
     "start_time": "2024-11-05T16:43:45.703081Z"
    }
   },
   "cell_type": "code",
   "source": [
    "# Access full names of two specific staff using 'loc'\n",
    "specific_full_names = staff_data.loc[[2,3], [\"first_name\", \"last_name\"]]\n",
    "print(specific_full_names)"
   ],
   "outputs": [
    {
     "name": "stdout",
     "output_type": "stream",
     "text": [
      "  first_name last_name\n",
      "2      Peter    Fitton\n",
      "3     Shreya     Singh\n"
     ]
    }
   ],
   "execution_count": 41
  },
  {
   "cell_type": "markdown",
   "metadata": {},
   "source": [
    "## Visualizing Data with Matplotlib"
   ]
  },
  {
   "cell_type": "markdown",
   "metadata": {},
   "source": [
    "### Peter -- Please show an example(s) as necessary for the following:\n",
    "- plot the x and y values from `linear_data.txt` \n",
    "- using `plt.show`\n",
    "- plot multiple lines on one plot (maybe plt.plot then plt.scatter of the same data?)\n",
    "- introduce lambda functions then plot output from function (i.e. `plt.plot(x, f(x))`)"
   ]
  }
 ],
 "metadata": {
  "kernelspec": {
   "display_name": "base",
   "language": "python",
   "name": "python3"
  },
  "language_info": {
   "codemirror_mode": {
    "name": "ipython",
    "version": 3
   },
   "file_extension": ".py",
   "mimetype": "text/x-python",
   "name": "python",
   "nbconvert_exporter": "python",
   "pygments_lexer": "ipython3",
   "version": "3.10.13"
  }
 },
 "nbformat": 4,
 "nbformat_minor": 2
}
