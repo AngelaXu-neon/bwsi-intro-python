{
 "cells": [
  {
   "cell_type": "markdown",
   "metadata": {},
   "source": [
    "# Introduction to Data Science: Loading and Visualizing Data"
   ]
  },
  {
   "cell_type": "code",
   "execution_count": 2,
   "metadata": {},
   "outputs": [],
   "source": [
    "import numpy as np\n",
    "import pandas as pd\n",
    "import matplotlib.pyplot as plt"
   ]
  },
  {
   "cell_type": "markdown",
   "metadata": {},
   "source": [
    "## Loading Data\n",
    "### Loading Numeric Data with NumPy"
   ]
  },
  {
   "cell_type": "code",
   "execution_count": 3,
   "metadata": {},
   "outputs": [
    {
     "name": "stdout",
     "output_type": "stream",
     "text": [
      "[ 1.  2.  3.  4.  5.  6.  7.  8.  9. 10.] [ 5.  7.  9. 11. 13. 15. 17. 19. 21. 23.]\n"
     ]
    }
   ],
   "source": [
    "x,y = np.loadtxt('./data/linear_data.txt', unpack=True)\n",
    "print(x, y)"
   ]
  },
  {
   "cell_type": "markdown",
   "metadata": {},
   "source": [
    "#### The Delimiter Argument\n",
    "\n",
    "A `delimiter` in Python is an argument that we pass to NumPy functions working with text files, like `numpy.loadtxt()` or `numpy.genfromtxt()`. \n",
    "\n",
    "The `delimiter` specifies which character separates the values in the text file we are using.\n",
    "\n",
    "Common delimiters include:\n",
    "|Delimiter|Symbol|\n",
    "|------|----|\n",
    "|Commas| `,`|\n",
    "|Tabs|`\\t`|\n",
    "|Spaces| `\" \"`|\n",
    "\n",
    "Here is an example of how we would specify a delimiter when loading data:\n",
    "```python\n",
    "# Our data file has comma separated values (csv), so we specify a comma for our delimiter.\n",
    "data = np.loadtxt('example_data.csv', delimiter=',')\n",
    "```"
   ]
  },
  {
   "cell_type": "markdown",
   "metadata": {},
   "source": [
    "#### What if we want to analyze non-numeric or mixed type data? \n",
    "\n",
    "The `numpy.loadtxt()` function is ideally used with numerical data. For non-numeric or mixed type data, we can use `numpy.genfromtxt()`, which allows us to specify the data type that will be assigned to our data. We pass it the name of our data file, a delimiter, and a data type, `dtype`. If we have multiple data types in our file, we can set `dtype` to `None` and NumPy will figure out the data types for us.\n",
    "\n",
    "In the following examples, note the format of the data when we print it. Look familiar? In these NumPy functions, the data is stored in a NumPy array, which we saw in module 2!  "
   ]
  },
  {
   "cell_type": "code",
   "execution_count": 11,
   "metadata": {},
   "outputs": [
    {
     "name": "stdout",
     "output_type": "stream",
     "text": [
      "[['1.0' '2.0' '3.0']\n",
      " ['cat' 'dog' 'mouse']\n",
      " ['4.0' 'horse' '5.0']]\n"
     ]
    }
   ],
   "source": [
    "# Our file has mixed data types, so we set 'dtype' to None.\n",
    "mixed_data = np.genfromtxt('data/example_mixed_data.csv', delimiter=',', dtype=None, encoding=None)\n",
    "print(mixed_data)"
   ]
  },
  {
   "cell_type": "code",
   "execution_count": 12,
   "metadata": {},
   "outputs": [
    {
     "name": "stdout",
     "output_type": "stream",
     "text": [
      "[[ 1.  2.  3.]\n",
      " [nan nan nan]\n",
      " [ 4. nan  5.]]\n"
     ]
    }
   ],
   "source": [
    "# We haven't specified 'dtype' so our function defaults to numeric data type\n",
    "# Now the strings in our data are classified as 'nan' (not a number)\n",
    "incorrect_mixed_data = np.genfromtxt('data/example_mixed_data.csv', delimiter=',')\n",
    "print(incorrect_mixed_data)"
   ]
  },
  {
   "cell_type": "markdown",
   "metadata": {},
   "source": [
    "## Pandas DataFrames\n",
    "\n",
    "#### Tabular Data with Pandas\n",
    "\n",
    "Pandas DataFrames are an extremely powerful tool for analyzing data!\n",
    "\n",
    "In Pandas, the data is stored in a structure called a `DataFrame` instead of a NumPy array. \n",
    "\n",
    "Not only will Pandas automatically infer our data types, it will also automatically set the names of our columns using the first row of the data file. \n",
    "\n",
    "We can read in our data with Pandas like this:"
   ]
  },
  {
   "cell_type": "code",
   "execution_count": 13,
   "metadata": {},
   "outputs": [],
   "source": [
    "# WINDOWS PATH\n",
    "#staff_data = pd.read_csv('.\\data\\fall2024_python_staff.csv')\n",
    "\n",
    "# MAC PATH\n",
    "staff_data = pd.read_csv('./data/fall2024_python_staff.csv')"
   ]
  },
  {
   "cell_type": "code",
   "execution_count": 14,
   "metadata": {},
   "outputs": [
    {
     "data": {
      "text/html": [
       "<div>\n",
       "<style scoped>\n",
       "    .dataframe tbody tr th:only-of-type {\n",
       "        vertical-align: middle;\n",
       "    }\n",
       "\n",
       "    .dataframe tbody tr th {\n",
       "        vertical-align: top;\n",
       "    }\n",
       "\n",
       "    .dataframe thead th {\n",
       "        text-align: right;\n",
       "    }\n",
       "</style>\n",
       "<table border=\"1\" class=\"dataframe\">\n",
       "  <thead>\n",
       "    <tr style=\"text-align: right;\">\n",
       "      <th></th>\n",
       "      <th>first_name</th>\n",
       "      <th>last_name</th>\n",
       "      <th>major</th>\n",
       "      <th>year</th>\n",
       "      <th>graduated</th>\n",
       "      <th>school</th>\n",
       "      <th>favorite_number</th>\n",
       "    </tr>\n",
       "  </thead>\n",
       "  <tbody>\n",
       "    <tr>\n",
       "      <th>0</th>\n",
       "      <td>Kallee</td>\n",
       "      <td>Gallant</td>\n",
       "      <td>physics</td>\n",
       "      <td>NaN</td>\n",
       "      <td>True</td>\n",
       "      <td>Columbia</td>\n",
       "      <td>9</td>\n",
       "    </tr>\n",
       "    <tr>\n",
       "      <th>1</th>\n",
       "      <td>Abby</td>\n",
       "      <td>Pitcairn</td>\n",
       "      <td>computer science</td>\n",
       "      <td>senior</td>\n",
       "      <td>False</td>\n",
       "      <td>University of Southern Maine</td>\n",
       "      <td>7</td>\n",
       "    </tr>\n",
       "    <tr>\n",
       "      <th>2</th>\n",
       "      <td>Peter</td>\n",
       "      <td>Fitton</td>\n",
       "      <td>physics</td>\n",
       "      <td>junior</td>\n",
       "      <td>False</td>\n",
       "      <td>University of Southern Maine</td>\n",
       "      <td>1</td>\n",
       "    </tr>\n",
       "    <tr>\n",
       "      <th>3</th>\n",
       "      <td>Shreya</td>\n",
       "      <td>Singh</td>\n",
       "      <td>computer science</td>\n",
       "      <td>junior</td>\n",
       "      <td>False</td>\n",
       "      <td>Stanford</td>\n",
       "      <td>3</td>\n",
       "    </tr>\n",
       "    <tr>\n",
       "      <th>4</th>\n",
       "      <td>Silas</td>\n",
       "      <td>Pillsbury</td>\n",
       "      <td>philosophy</td>\n",
       "      <td>NaN</td>\n",
       "      <td>True</td>\n",
       "      <td>St. Johns College</td>\n",
       "      <td>6</td>\n",
       "    </tr>\n",
       "  </tbody>\n",
       "</table>\n",
       "</div>"
      ],
      "text/plain": [
       "  first_name  last_name             major    year  graduated  \\\n",
       "0     Kallee    Gallant           physics     NaN       True   \n",
       "1       Abby   Pitcairn  computer science  senior      False   \n",
       "2      Peter     Fitton           physics  junior      False   \n",
       "3     Shreya      Singh  computer science  junior      False   \n",
       "4      Silas  Pillsbury        philosophy     NaN       True   \n",
       "\n",
       "                         school  favorite_number  \n",
       "0                      Columbia                9  \n",
       "1  University of Southern Maine                7  \n",
       "2  University of Southern Maine                1  \n",
       "3                      Stanford                3  \n",
       "4             St. Johns College                6  "
      ]
     },
     "execution_count": 14,
     "metadata": {},
     "output_type": "execute_result"
    }
   ],
   "source": [
    "staff_data"
   ]
  },
  {
   "cell_type": "markdown",
   "metadata": {},
   "source": [
    "#### Other Pandas Data Functions\n",
    "\n",
    "`pd.read_csv` can work with other types of delimiters, not just commas. To do this, we simply specify what delimiter we are using in the function. In `pd.read_csv`, the delimiter is called `sep`, as in what is separating the data. \n",
    "\n",
    "```python\n",
    "# Specify that our values are separated by tabs.\n",
    "tab_data = pd.read_csv('example_data.tsv', sep='\\t')\n",
    "```"
   ]
  },
  {
   "cell_type": "markdown",
   "metadata": {},
   "source": [
    "Pandas has other functions for parsing more complex file types. For example, when working with Excel spreadsheets, we can use the Pandas function `pd.read_excel` like this:\n",
    "```python\n",
    "# Read in data from an Excel spreadsheet. Specify which page of the spreadsheet.\n",
    "excel_data = pd.read_excel('excel_data.xlsx', sheet_name='Sheet1')\n",
    "```"
   ]
  },
  {
   "cell_type": "markdown",
   "metadata": {},
   "source": [
    "## Indexing DataFrames\n",
    "\n",
    "\n",
    "#### Using `loc` vs. `iloc` \n",
    "\n",
    "There are two ways we can access specific data from our Pandas `DataFrame`:\n",
    "1. `loc`: location of data by column name\n",
    "2. `iloc`: location of data by column index\n",
    "\n",
    "For both `loc` and `iloc`, we specify row then column. This will locate one specific data point in the `DataFrame`."
   ]
  },
  {
   "cell_type": "code",
   "execution_count": 16,
   "metadata": {},
   "outputs": [
    {
     "name": "stdout",
     "output_type": "stream",
     "text": [
      "Using loc: philosophy\n",
      "Using iloc: philosophy\n"
     ]
    }
   ],
   "source": [
    "# Row 4 is 'Silas', and column 2 is 'major'.\n",
    "row_by_label = staff_data.loc[4, 'major']   # data from row index, column name\n",
    "row_by_index = staff_data.iloc[4, 2]        # data from row index, column index\n",
    "\n",
    "print(\"Using loc:\", row_by_label)\n",
    "print(\"Using iloc:\", row_by_index)"
   ]
  },
  {
   "cell_type": "markdown",
   "metadata": {},
   "source": [
    "#### Accessing Data from an Entire Column\n",
    "\n",
    "To access the data from an entire column, we can use dot notation or bracket notation.\n",
    "\n",
    "- **Dot notation**: If a column has a name with no spaces or special characters, we can access it like an attribute.\n",
    "- **Bracket notation**: For any column name, with or without spaces or special characters, we can put the column name in brackets.\n",
    "\n",
    "Let's look at how we would use both these notations to access the first names from our staff data:"
   ]
  },
  {
   "cell_type": "code",
   "execution_count": 22,
   "metadata": {
    "ExecuteTime": {
     "end_time": "2024-11-05T16:44:10.723992Z",
     "start_time": "2024-11-05T16:44:10.721570Z"
    }
   },
   "outputs": [],
   "source": [
    "# Dot notation\n",
    "first_names_dot = staff_data.first_name\n",
    "#print(first_names_dot)\n",
    "\n",
    "# Bracket notation\n",
    "first_names_bracket = staff_data[\"first_name\"]\n",
    "#print(first_names_bracket)"
   ]
  },
  {
   "cell_type": "markdown",
   "metadata": {},
   "source": [
    "#### Accessing Data from Multiple Columns\n",
    "\n",
    "To access data from multiple columns, we can use brackets to specify row(s) then column(s). Like arrays, we can specify all rows/columns by using `:` as the index.\n",
    "\n",
    "Let's look at a couple examples. In the first example, we print all staff's first and last names. By putting `:` as our row index, we access all rows. For columns, we specify the column names `first_name` and `last_name` in brackets. In the second example, we want the first and last names for only Peter and Shreya, so we pass `[2, 3]` instead of `:` as rows. \n",
    "\n"
   ]
  },
  {
   "cell_type": "code",
   "execution_count": 23,
   "metadata": {
    "ExecuteTime": {
     "end_time": "2024-11-05T16:43:16.536725Z",
     "start_time": "2024-11-05T16:43:16.531838Z"
    }
   },
   "outputs": [
    {
     "name": "stdout",
     "output_type": "stream",
     "text": [
      "  first_name  last_name\n",
      "0     Kallee    Gallant\n",
      "1       Abby   Pitcairn\n",
      "2      Peter     Fitton\n",
      "3     Shreya      Singh\n",
      "4      Silas  Pillsbury\n"
     ]
    }
   ],
   "source": [
    "# Access all full names from staff data using 'loc'\n",
    "full_names = staff_data.loc[:, [\"first_name\", \"last_name\"]]\n",
    "print(full_names)"
   ]
  },
  {
   "cell_type": "code",
   "execution_count": 24,
   "metadata": {
    "ExecuteTime": {
     "end_time": "2024-11-05T16:43:45.707839Z",
     "start_time": "2024-11-05T16:43:45.703081Z"
    }
   },
   "outputs": [
    {
     "name": "stdout",
     "output_type": "stream",
     "text": [
      "  first_name last_name\n",
      "2      Peter    Fitton\n",
      "3     Shreya     Singh\n"
     ]
    }
   ],
   "source": [
    "# Access full names of two specific staff using 'loc'\n",
    "specific_full_names = staff_data.loc[[2,3], [\"first_name\", \"last_name\"]]\n",
    "print(specific_full_names)"
   ]
  },
  {
   "cell_type": "markdown",
   "metadata": {},
   "source": [
    "## Visualizing Data with Matplotlib"
   ]
  },
  {
   "cell_type": "markdown",
   "metadata": {},
   "source": [
    "At the begining of this notebook we loaded `x` and `y` from `\".\\data\\linear_data.txt\"` with `numpy`.\n",
    "\n",
    "We can use the plotting API from `matplotlib` to visualize this data.\n",
    "\n",
    "This API aims to make the plotting experience as close to MATLAB as possible."
   ]
  },
  {
   "cell_type": "code",
   "execution_count": 5,
   "metadata": {},
   "outputs": [
    {
     "data": {
      "image/png": "[encoded data removed]",
      "text/plain": [
       "<Figure size 640x480 with 1 Axes>"
      ]
     },
     "metadata": {},
     "output_type": "display_data"
    }
   ],
   "source": [
    "plt.plot(x,y)\n",
    "plt.ylabel(\"y\")\n",
    "plt.xlabel(\"x\")\n",
    "plt.show()"
   ]
  },
  {
   "cell_type": "markdown",
   "metadata": {},
   "source": [
    "Note the use of `plt.show`. It is best practice to call `show` whenever you want to display a plot to the screen.\n",
    "\n",
    "We can also plot multiple lines on one plot with `plt.plot`. Simply pass more arguments for more lines!"
   ]
  },
  {
   "cell_type": "code",
   "execution_count": null,
   "metadata": {},
   "outputs": [
    {
     "data": {
      "text/plain": [
       "[<matplotlib.lines.Line2D at 0x1d532ca22d0>,\n",
       " <matplotlib.lines.Line2D at 0x1d532ca22a0>]"
      ]
     },
     "execution_count": 6,
     "metadata": {},
     "output_type": "execute_result"
    },
    {
     "data": {
      "image/png": "[encoded data removed]",
      "text/plain": [
       "<Figure size 640x480 with 1 Axes>"
      ]
     },
     "metadata": {},
     "output_type": "display_data"
    }
   ],
   "source": [
    "plt.plot(x,y,x,y**2)\n",
    "plt.show()"
   ]
  },
  {
   "cell_type": "markdown",
   "metadata": {},
   "source": [
    "Not only can we plot multiple \"lines\" of data to a single figure, we can also use functions to generate the values we want.\n",
    "\n",
    "Lets define a function $f(x)=(x-2)^3+3$ and plot the output of this with a single call to `plt.plot`."
   ]
  },
  {
   "cell_type": "code",
   "execution_count": 12,
   "metadata": {},
   "outputs": [],
   "source": [
    "def f(x):\n",
    "    return (x-2)**3 + 3"
   ]
  },
  {
   "cell_type": "code",
   "execution_count": null,
   "metadata": {},
   "outputs": [
    {
     "data": {
      "text/plain": [
       "[<matplotlib.lines.Line2D at 0x1d53330f830>]"
      ]
     },
     "execution_count": 13,
     "metadata": {},
     "output_type": "execute_result"
    },
    {
     "data": {
      "image/png": "[encoded data removed]",
      "text/plain": [
       "<Figure size 640x480 with 1 Axes>"
      ]
     },
     "metadata": {},
     "output_type": "display_data"
    }
   ],
   "source": [
    "xs = np.arange(0., 4., 0.2)\n",
    "\n",
    "plt.plot(xs,f(xs))\n",
    "plt.show()"
   ]
  },
  {
   "cell_type": "markdown",
   "metadata": {},
   "source": [
    "Another useful tool is a **lambda function**\n",
    "\n",
    "Syntax: lambda *arguments* : *expression*\n",
    "\n",
    "Use lambda functions when an anonymous function is required for a short period of time.\n",
    "\n",
    "We can use the anonymous function to reproduce the function used above given that only one expression needs to be evaluated."
   ]
  },
  {
   "cell_type": "code",
   "execution_count": 15,
   "metadata": {},
   "outputs": [
    {
     "data": {
      "image/png": "[encoded data removed]",
      "text/plain": [
       "<Figure size 640x480 with 1 Axes>"
      ]
     },
     "metadata": {},
     "output_type": "display_data"
    }
   ],
   "source": [
    "g = lambda x : (x-2)**3 + 3\n",
    "\n",
    "plt.plot(xs,g(xs))\n",
    "plt.show()"
   ]
  }
 ],
 "metadata": {
  "kernelspec": {
   "display_name": "MITLL_Python",
   "language": "python",
   "name": "python3"
  },
  "language_info": {
   "codemirror_mode": {
    "name": "ipython",
    "version": 3
   },
   "file_extension": ".py",
   "mimetype": "text/x-python",
   "name": "python",
   "nbconvert_exporter": "python",
   "pygments_lexer": "ipython3",
   "version": "3.12.7"
  }
 },
 "nbformat": 4,
 "nbformat_minor": 2
}
