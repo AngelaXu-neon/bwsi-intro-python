{
 "cells": [
  {
   "cell_type": "markdown",
   "metadata": {},
   "source": [
    "# Introduction to Data Science: Loading and Visualizing Data"
   ]
  },
  {
   "cell_type": "code",
   "execution_count": 20,
   "metadata": {},
   "outputs": [],
   "source": [
    "import numpy as np\n",
    "import pandas as pd\n",
    "import matplotlib.pyplot as plt"
   ]
  },
  {
   "cell_type": "markdown",
   "metadata": {},
   "source": [
    "## Loading Data"
   ]
  },
  {
   "cell_type": "markdown",
   "metadata": {},
   "source": [
    "### Loading Numeric Data with NumPy"
   ]
  },
  {
   "cell_type": "code",
   "execution_count": 28,
   "metadata": {},
   "outputs": [],
   "source": [
    "x,y = np.loadtxt('./data/linear_data.txt', unpack=True)"
   ]
  },
  {
   "cell_type": "markdown",
   "metadata": {},
   "source": [
    "### Abby -- Please describe the delimiter argument and what a delimiter is"
   ]
  },
  {
   "cell_type": "markdown",
   "metadata": {},
   "source": [
    "What if we want to analyze non-numeric or mixed type data?"
   ]
  },
  {
   "cell_type": "markdown",
   "metadata": {},
   "source": [
    "### Loading Tabular Data with Pandas\n",
    "\n",
    "Pandas DataFrames are an extremely powerful tool for analyzing data! "
   ]
  },
  {
   "cell_type": "code",
   "execution_count": 24,
   "metadata": {},
   "outputs": [],
   "source": [
    "# WINDOWS PATH\n",
    "#staff_data = pd.read_csv('.\\data\\fall2024_python_staff.csv')\n",
    "\n",
    "# MAC PATH\n",
    "staff_data = pd.read_csv('./data/fall2024_python_staff.csv')"
   ]
  },
  {
   "cell_type": "code",
   "execution_count": 25,
   "metadata": {},
   "outputs": [
    {
     "data": {
      "text/html": [
       "<div>\n",
       "<style scoped>\n",
       "    .dataframe tbody tr th:only-of-type {\n",
       "        vertical-align: middle;\n",
       "    }\n",
       "\n",
       "    .dataframe tbody tr th {\n",
       "        vertical-align: top;\n",
       "    }\n",
       "\n",
       "    .dataframe thead th {\n",
       "        text-align: right;\n",
       "    }\n",
       "</style>\n",
       "<table border=\"1\" class=\"dataframe\">\n",
       "  <thead>\n",
       "    <tr style=\"text-align: right;\">\n",
       "      <th></th>\n",
       "      <th>first_name</th>\n",
       "      <th>last_name</th>\n",
       "      <th>major</th>\n",
       "      <th>year</th>\n",
       "      <th>graduated</th>\n",
       "      <th>school</th>\n",
       "      <th>favorite_number</th>\n",
       "    </tr>\n",
       "  </thead>\n",
       "  <tbody>\n",
       "    <tr>\n",
       "      <th>0</th>\n",
       "      <td>Kallee</td>\n",
       "      <td>Gallant</td>\n",
       "      <td>physics</td>\n",
       "      <td>NaN</td>\n",
       "      <td>True</td>\n",
       "      <td>Columbia</td>\n",
       "      <td>9</td>\n",
       "    </tr>\n",
       "    <tr>\n",
       "      <th>1</th>\n",
       "      <td>Abby</td>\n",
       "      <td>Pitcairn</td>\n",
       "      <td>computer science</td>\n",
       "      <td>senior</td>\n",
       "      <td>False</td>\n",
       "      <td>University of Southern Maine</td>\n",
       "      <td>7</td>\n",
       "    </tr>\n",
       "    <tr>\n",
       "      <th>2</th>\n",
       "      <td>Peter</td>\n",
       "      <td>Fitton</td>\n",
       "      <td>physics</td>\n",
       "      <td>junior</td>\n",
       "      <td>False</td>\n",
       "      <td>University of Southern Maine</td>\n",
       "      <td>1</td>\n",
       "    </tr>\n",
       "    <tr>\n",
       "      <th>3</th>\n",
       "      <td>Shreya</td>\n",
       "      <td>Singh</td>\n",
       "      <td>computer science</td>\n",
       "      <td>junior</td>\n",
       "      <td>False</td>\n",
       "      <td>Stanford</td>\n",
       "      <td>3</td>\n",
       "    </tr>\n",
       "    <tr>\n",
       "      <th>4</th>\n",
       "      <td>Silas</td>\n",
       "      <td>Pillsbury</td>\n",
       "      <td>philosophy</td>\n",
       "      <td>NaN</td>\n",
       "      <td>True</td>\n",
       "      <td>St. Johns College</td>\n",
       "      <td>6</td>\n",
       "    </tr>\n",
       "  </tbody>\n",
       "</table>\n",
       "</div>"
      ],
      "text/plain": [
       "  first_name  last_name             major    year  graduated  \\\n",
       "0     Kallee    Gallant           physics     NaN       True   \n",
       "1       Abby   Pitcairn  computer science  senior      False   \n",
       "2      Peter     Fitton           physics  junior      False   \n",
       "3     Shreya      Singh  computer science  junior      False   \n",
       "4      Silas  Pillsbury        philosophy     NaN       True   \n",
       "\n",
       "                         school  favorite_number  \n",
       "0                      Columbia                9  \n",
       "1  University of Southern Maine                7  \n",
       "2  University of Southern Maine                1  \n",
       "3                      Stanford                3  \n",
       "4             St. Johns College                6  "
      ]
     },
     "execution_count": 25,
     "metadata": {},
     "output_type": "execute_result"
    }
   ],
   "source": [
    "staff_data"
   ]
  },
  {
   "cell_type": "markdown",
   "metadata": {},
   "source": [
    "### Abby -- briefly mention:\n",
    "- `read_xlsx` exists for Excel spreadsheets\n",
    "- other parsers for more complex file types exist\n",
    "- even though the function is `read_csv` you can change the `delimiter` argument to read tab deliminated files etc."
   ]
  },
  {
   "cell_type": "markdown",
   "metadata": {},
   "source": [
    "## Indexing DataFrames"
   ]
  },
  {
   "cell_type": "markdown",
   "metadata": {},
   "source": [
    "### Abby -- please explain and demonstrate the following:\n",
    "- Compare `df.loc` vs. `df.iloc`\n",
    "- indexing a whole column using the column name (for example `staff_data.first_name`)\n",
    "- accessing multiple columns at once (ex. `df.loc[:, [\"col1\", \"col2\", \"col3\"]]` accesses all rows of the named columns)"
   ]
  },
  {
   "cell_type": "markdown",
   "metadata": {},
   "source": [
    "## Visualizing Data with Matplotlib"
   ]
  },
  {
   "cell_type": "markdown",
   "metadata": {},
   "source": [
    "### Peter -- Please show an example(s) as necessary for the following:\n",
    "- plot the x and y values from `linear_data.txt` \n",
    "- using `plt.show`\n",
    "- plot multiple lines on one plot (maybe plt.plot then plt.scatter of the same data?)\n",
    "- introduce lambda functions then plot output from function (i.e. `plt.plot(x, f(x))`)"
   ]
  }
 ],
 "metadata": {
  "kernelspec": {
   "display_name": "base",
   "language": "python",
   "name": "python3"
  },
  "language_info": {
   "codemirror_mode": {
    "name": "ipython",
    "version": 3
   },
   "file_extension": ".py",
   "mimetype": "text/x-python",
   "name": "python",
   "nbconvert_exporter": "python",
   "pygments_lexer": "ipython3",
   "version": "3.10.13"
  }
 },
 "nbformat": 4,
 "nbformat_minor": 2
}
