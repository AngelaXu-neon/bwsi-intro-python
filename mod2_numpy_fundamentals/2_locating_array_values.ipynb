{
 "cells": [
  {
   "cell_type": "markdown",
   "metadata": {},
   "source": [
    "# NumPy Fundamentals: Locating Array Values\n",
    "The focus of this section is how to find values within an `ndarray` when the index is unknown.\n",
    "\n",
    "Please follow the instructions and uncomment the skeleton code as necessary.\n",
    "\n",
    "This assignment is due in addition to the small group assignment before the next class"
   ]
  },
  {
   "cell_type": "code",
   "execution_count": 1,
   "metadata": {},
   "outputs": [],
   "source": [
    "import numpy as np"
   ]
  },
  {
   "cell_type": "code",
   "execution_count": 2,
   "metadata": {},
   "outputs": [],
   "source": [
    "my_array = np.array([[12, 73, 68], [33, 25, 1], [54, 46, 92]])"
   ]
  },
  {
   "cell_type": "markdown",
   "metadata": {},
   "source": [
    "## Finding Minimum and Maximum Values\n"
   ]
  },
  {
   "cell_type": "markdown",
   "metadata": {},
   "source": [
    "What if we want to find the smallest element in our array? NumPy's `min` function allows us to do just that:"
   ]
  },
  {
   "cell_type": "code",
   "execution_count": null,
   "metadata": {},
   "outputs": [],
   "source": [
    "print(f\"The smallest element is: {np.min(my_array)}\")"
   ]
  },
  {
   "cell_type": "markdown",
   "metadata": {},
   "source": [
    "But *where* is the smallest element? NumPy also has a function to tell you its index:"
   ]
  },
  {
   "cell_type": "code",
   "execution_count": null,
   "metadata": {},
   "outputs": [],
   "source": [
    "print(f\"The smallest element is at index: {np.argmin(my_array)}\")"
   ]
  },
  {
   "cell_type": "markdown",
   "metadata": {},
   "source": [
    "But our array is has 2 dimensions...what does index 5 mean for a 2D array?\n",
    "\n",
    "Well if we flatten the array such that it's now 1D: "
   ]
  },
  {
   "cell_type": "code",
   "execution_count": null,
   "metadata": {},
   "outputs": [],
   "source": [
    "my_flat_array = my_array.flatten()\n",
    "print(f\"Flat array: {my_flat_array}\")"
   ]
  },
  {
   "cell_type": "markdown",
   "metadata": {},
   "source": [
    "Looks like the element at index 5 is indeed 1!"
   ]
  },
  {
   "cell_type": "code",
   "execution_count": null,
   "metadata": {},
   "outputs": [],
   "source": [
    "print(my_flat_array[5])"
   ]
  },
  {
   "cell_type": "markdown",
   "metadata": {},
   "source": [
    "We can also use these functions to get the smallest element in each row or column:"
   ]
  },
  {
   "cell_type": "code",
   "execution_count": null,
   "metadata": {},
   "outputs": [],
   "source": [
    "# Note: \n",
    "# - compare elements in each row --> axis = 0 \n",
    "# - compare elements in each column --> axis = 1\n",
    "\n",
    "print(f\"The smallest elements in each row: {np.min(my_array, axis = 0)}\")\n",
    "print(f\"The smallest elements in each column: {np.min(my_array, axis = 1)}\")"
   ]
  },
  {
   "cell_type": "markdown",
   "metadata": {},
   "source": [
    "NumPy also has analgous functions for finding the maximum element:\n",
    "- `np.max`: returns the largest element in the array\n",
    "- `np.argmax`: returns the index of the largest element"
   ]
  },
  {
   "cell_type": "markdown",
   "metadata": {},
   "source": [
    "### Q.1 Please find the largest value in `my_array`, the index of the largest value, and the largest values in each column"
   ]
  },
  {
   "cell_type": "code",
   "execution_count": 8,
   "metadata": {},
   "outputs": [],
   "source": [
    "#print(f\"The largest element in my_array is: { <YOUR ANSWER HERE> }\")\n",
    "#print(f\"The largest element in my_array is at index: { <YOUR ANSWER HERE> }\")\n",
    "#print(f\"The largest elements in each column are: { <YOUR ANSWER HERE> }\")"
   ]
  },
  {
   "cell_type": "markdown",
   "metadata": {},
   "source": [
    "## Finding and Sorting Values Based On Conditions"
   ]
  },
  {
   "cell_type": "code",
   "execution_count": 9,
   "metadata": {},
   "outputs": [],
   "source": [
    "new_array = np.array([[-18, 13, 83, 11], [28, 18, 12, -16]])"
   ]
  },
  {
   "cell_type": "markdown",
   "metadata": {},
   "source": [
    "NumPy also allows us to find values that meet a certain criteria using `np.where`"
   ]
  },
  {
   "cell_type": "code",
   "execution_count": null,
   "metadata": {},
   "outputs": [],
   "source": [
    "np.where(new_array > 20)"
   ]
  },
  {
   "cell_type": "markdown",
   "metadata": {},
   "source": [
    "At first, these results do not seem to have a clear meaning. However, upon further inspection, we can see that the first list contains the row number and the second list contains the column index of each element that satisfies our condition"
   ]
  },
  {
   "cell_type": "markdown",
   "metadata": {},
   "source": [
    "We can also get the indices where the condition is met directly:"
   ]
  },
  {
   "cell_type": "code",
   "execution_count": null,
   "metadata": {},
   "outputs": [],
   "source": [
    "np.argwhere(new_array > 20)"
   ]
  },
  {
   "cell_type": "markdown",
   "metadata": {},
   "source": [
    "These are formatted much cleaner!"
   ]
  },
  {
   "cell_type": "markdown",
   "metadata": {},
   "source": [
    "NumPy also has a specific function that tells us where all of the non-zero elements are in an array:"
   ]
  },
  {
   "cell_type": "code",
   "execution_count": null,
   "metadata": {},
   "outputs": [],
   "source": [
    "np.nonzero(new_array)"
   ]
  },
  {
   "cell_type": "markdown",
   "metadata": {},
   "source": [
    "### Q.2 Use `np.where` to reproduce the output above"
   ]
  },
  {
   "cell_type": "code",
   "execution_count": 13,
   "metadata": {},
   "outputs": [],
   "source": [
    "# SOLUTION\n",
    "#print(np.where( <YOUR ANSWER HERE> ))"
   ]
  },
  {
   "cell_type": "markdown",
   "metadata": {},
   "source": [
    "Lastly, `np.sort` provides us with sorting capabilities, but the default result may not be exactly what you expect."
   ]
  },
  {
   "cell_type": "code",
   "execution_count": null,
   "metadata": {},
   "outputs": [],
   "source": [
    "np.sort(new_array)"
   ]
  },
  {
   "cell_type": "markdown",
   "metadata": {},
   "source": [
    "### Q.3 What rules does numpy seem to be following when sorting?"
   ]
  },
  {
   "cell_type": "markdown",
   "metadata": {},
   "source": [
    "### A.3 The rows don't change order, but elements in the row are sorted lowest to highest\n"
   ]
  },
  {
   "cell_type": "markdown",
   "metadata": {},
   "source": [
    "As an extension, trying seeing what values the axis parameter can take on and how that affects the sorting:"
   ]
  },
  {
   "cell_type": "code",
   "execution_count": 15,
   "metadata": {},
   "outputs": [],
   "source": [
    "# Try printing these one at a time!\n",
    "#print(np.sort(new_array, axis=0))\n",
    "#print(np.sort(new_array, axis=1))"
   ]
  },
  {
   "cell_type": "markdown",
   "metadata": {},
   "source": [
    "### Q.4 What impact does changing the `axis` argument have?"
   ]
  },
  {
   "cell_type": "markdown",
   "metadata": {},
   "source": [
    "### A.4 The `axis` argument controls which direction the values are sorted in (i.e. along the rows or columns)?"
   ]
  },
  {
   "cell_type": "markdown",
   "metadata": {},
   "source": [
    "## Finding Values in a Database"
   ]
  },
  {
   "cell_type": "markdown",
   "metadata": {},
   "source": [
    "Suppose we have a database of customers with attached IDs. \n",
    "\n",
    "If we want to look for a customer with a specific ID, we can use `np.argwhere` to find them. "
   ]
  },
  {
   "cell_type": "markdown",
   "metadata": {},
   "source": [
    "### Q.5 Change the number 1234 in the `np.argwhere` function to Gwendolyn's ID number to get her index in the database"
   ]
  },
  {
   "cell_type": "code",
   "execution_count": null,
   "metadata": {},
   "outputs": [],
   "source": [
    "customers = np.array([['Dave','4101'],['Gwendolyn','3222'],['Anne','2315']])\n",
    "gwen_id_index = np.argwhere(customers=='1234')"
   ]
  },
  {
   "cell_type": "code",
   "execution_count": null,
   "metadata": {},
   "outputs": [],
   "source": [
    "print(gwen_id_index)"
   ]
  },
  {
   "cell_type": "markdown",
   "metadata": {},
   "source": [
    "Great! Now the variable `gwen_id_index` is an array with the index of Gwendolyn's user ID in the database. "
   ]
  },
  {
   "cell_type": "markdown",
   "metadata": {},
   "source": [
    "### Q.6 Index the variable `gwen_id_index` as necessary to extract the row and column indices as integers\n",
    "Hint: your output should be 1,1"
   ]
  },
  {
   "cell_type": "code",
   "execution_count": 18,
   "metadata": {},
   "outputs": [],
   "source": [
    "#gwen_id_row = <YOUR ANSWER HERE>\n",
    "#gwen_id_col = <YOUR ANSWER HERE>\n",
    "#print(f\"Gwen's ID is stored at index: { gwen_id_row },{ gwen_id_col }\")"
   ]
  },
  {
   "cell_type": "markdown",
   "metadata": {},
   "source": [
    "To search the database by name, we'll use a similar method. \n",
    "\n",
    "We can find Anne in our database by calling `np.where`:"
   ]
  },
  {
   "cell_type": "code",
   "execution_count": 19,
   "metadata": {},
   "outputs": [],
   "source": [
    "anne_name_index = np.argwhere(customers=='Anne')"
   ]
  },
  {
   "cell_type": "code",
   "execution_count": null,
   "metadata": {},
   "outputs": [],
   "source": [
    "print(anne_name_index)"
   ]
  },
  {
   "cell_type": "markdown",
   "metadata": {},
   "source": [
    "### Q.7 Use and index the variable `anne_name_index` as necessary to access the entry `['Anne', '2315']` in `customers`"
   ]
  },
  {
   "cell_type": "code",
   "execution_count": 21,
   "metadata": {},
   "outputs": [],
   "source": [
    "#anne_data = <YOUR ANSWER HERE>\n",
    "#print(f\"Anne's database entry: { anne_data }\")"
   ]
  }
 ],
 "metadata": {
  "kernelspec": {
   "display_name": "base",
   "language": "python",
   "name": "python3"
  },
  "language_info": {
   "codemirror_mode": {
    "name": "ipython",
    "version": 3
   },
   "file_extension": ".py",
   "mimetype": "text/x-python",
   "name": "python",
   "nbconvert_exporter": "python",
   "pygments_lexer": "ipython3",
   "version": "3.10.13"
  }
 },
 "nbformat": 4,
 "nbformat_minor": 4
}
