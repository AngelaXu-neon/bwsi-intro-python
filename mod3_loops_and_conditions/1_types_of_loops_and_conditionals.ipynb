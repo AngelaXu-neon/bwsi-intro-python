{
 "cells": [
  {
   "cell_type": "markdown",
   "metadata": {},
   "source": [
    "# Loops and Conditions: Types of Loops and Conditions"
   ]
  },
  {
   "cell_type": "markdown",
   "metadata": {},
   "source": [
    "In general, both loops and conditional statements are programming constructs that allow us to control the flow of our code. \n",
    "\n",
    "Conditional statements function as decision trees whereas loops allow us to run multiple iterations of the same code block."
   ]
  },
  {
   "cell_type": "markdown",
   "metadata": {},
   "source": [
    "## Syntax and Formatting"
   ]
  },
  {
   "cell_type": "markdown",
   "metadata": {},
   "source": [
    "## Peter -- Please write a very short markdown about the syntax of writing loops and conditional statements, specifically:\n",
    "- Indentation, and make a note that this will be important for nested loops/conditions later this module. \n",
    "- The importance of commenting code blocks/conditions  \n"
   ]
  },
  {
   "cell_type": "markdown",
   "metadata": {},
   "source": [
    "## Types of Conditional Statements\n",
    "\n",
    "- `if`: if the condition is true, execute the indented code block below\n",
    "- `elif`: same as if, but used if there are more than two conditions\n",
    "- `else`: if all of the `if` and `elif` conditions are not true, execute the code below\n"
   ]
  },
  {
   "cell_type": "markdown",
   "metadata": {},
   "source": [
    "## Peter -- please supplement my blurb above and bulleted list below as needed and format this into a nicer table :) \n",
    "**Types of Conditions**\n",
    "- mathematical: `==`, `!=`, `>=`, `<=` etc.\n",
    "- literal boolean: `True`/`False`\n",
    "- Check for `None`: `is`/`is not`\n",
    "- contained in string or list: `in`"
   ]
  },
  {
   "cell_type": "code",
   "execution_count": 15,
   "metadata": {},
   "outputs": [
    {
     "name": "stdout",
     "output_type": "stream",
     "text": [
      ":(\n"
     ]
    }
   ],
   "source": [
    "my_value = None\n",
    "if my_value is not None:\n",
    "    print('yay')\n",
    "else:\n",
    "    print(\":(\")"
   ]
  },
  {
   "cell_type": "markdown",
   "metadata": {},
   "source": [
    "## Types of Loops\n",
    "- `for`\n",
    "- `while`"
   ]
  },
  {
   "cell_type": "markdown",
   "metadata": {},
   "source": [
    "## Shreya -- Please fill in the blurb above and write a few simple examples/explanatory blurbs below"
   ]
  },
  {
   "cell_type": "markdown",
   "metadata": {},
   "source": [
    "## List Comprehensions\n",
    "List comprehensions are a powerful tool in Python. They allow you to generate a list quickly and easily in one line of code using the same syntax as for loops and conditional statements. \n",
    "\n",
    "The basic formula is:\n",
    "\n",
    "**[( value you want ) for ( value in iterable ) in ( iterable )]**\n",
    "\n",
    "where the iterable is some sort of list, range, etc.\n",
    "\n",
    "Let's see this in action!"
   ]
  },
  {
   "cell_type": "code",
   "execution_count": 4,
   "metadata": {},
   "outputs": [
    {
     "name": "stdout",
     "output_type": "stream",
     "text": [
      "['0', '1', '2', '3', '4', '5', '6', '7', '8', '9']\n"
     ]
    }
   ],
   "source": [
    "list_of_num_str = [str(i) for i in range(10)]\n",
    "print(list_of_num_str)"
   ]
  },
  {
   "cell_type": "code",
   "execution_count": 10,
   "metadata": {},
   "outputs": [
    {
     "name": "stdout",
     "output_type": "stream",
     "text": [
      "[1, 1, 1, 1]\n"
     ]
    }
   ],
   "source": [
    "list_of_ones = [1.0, \"1\", True, str(1)]\n",
    "list_of_ones_int = [int(i) for i in list_of_ones]\n",
    "print(list_of_ones_int)"
   ]
  },
  {
   "cell_type": "markdown",
   "metadata": {},
   "source": [
    "You can also add conditional statements to list comprehensions"
   ]
  },
  {
   "cell_type": "code",
   "execution_count": 3,
   "metadata": {},
   "outputs": [
    {
     "name": "stdout",
     "output_type": "stream",
     "text": [
      "[0, 2, 4, 6, 8]\n"
     ]
    }
   ],
   "source": [
    "list_of_even_ints = [i for i in range(10) if i%2==0]\n",
    "print(list_of_even_ints)"
   ]
  },
  {
   "cell_type": "code",
   "execution_count": 7,
   "metadata": {},
   "outputs": [
    {
     "name": "stdout",
     "output_type": "stream",
     "text": [
      "['skyblue', 'royalblue']\n"
     ]
    }
   ],
   "source": [
    "list_of_colors = [\"red\", \"skyblue\", \"green\", \"yellow\", \"royalblue\", \"brown\"]\n",
    "shades_of_blue = [color for color in list_of_colors if \"blue\" in color]\n",
    "print(shades_of_blue)"
   ]
  }
 ],
 "metadata": {
  "kernelspec": {
   "display_name": "base",
   "language": "python",
   "name": "python3"
  },
  "language_info": {
   "codemirror_mode": {
    "name": "ipython",
    "version": 3
   },
   "file_extension": ".py",
   "mimetype": "text/x-python",
   "name": "python",
   "nbconvert_exporter": "python",
   "pygments_lexer": "ipython3",
   "version": "3.10.13"
  }
 },
 "nbformat": 4,
 "nbformat_minor": 2
}
