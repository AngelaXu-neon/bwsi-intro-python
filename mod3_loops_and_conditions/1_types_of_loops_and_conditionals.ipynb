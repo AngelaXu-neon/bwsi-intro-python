{
 "cells": [
  {
   "cell_type": "markdown",
   "metadata": {},
   "source": [
    "# Loops and Conditions: Types of Loops and Conditions"
   ]
  },
  {
   "cell_type": "markdown",
   "metadata": {},
   "source": [
    "In general, both loops and conditional statements are programming constructs that allow us to control the flow of our code. \n",
    "\n",
    "Conditional statements function as decision trees whereas loops allow us to run multiple iterations of the same code block."
   ]
  },
  {
   "cell_type": "markdown",
   "metadata": {},
   "source": [
    "## Syntax and Formatting"
   ]
  },
  {
   "cell_type": "markdown",
   "metadata": {},
   "source": [
    "Python uses white space (indentation) to define scope for which the code will run. The code indented after an `if` statement will be run if the statement is true, while other non-indented code will run regardless.\n",
    "\n",
    "Python also requires that the definition line for a loop or condition end with a `:` as seen in the below example.\n",
    "\n",
    "```python\n",
    "if 3 > 5:\n",
    "    print(\"WOAH\")        # this is evaluated if the `if` statement is true.\n",
    "print(\"Hello World!\")    # this is evaluated separate from the if statement.\n",
    "```\n",
    "\n",
    "Each new code block/level requires its own set of indentation.\n",
    "```python\n",
    "if 3 < 5:\n",
    "    if 7 > 3:\n",
    "        print(\"This runs only if 7 > 3\")\n",
    "    print(\"This runs only if 3 < 5\")\n",
    "```"
   ]
  },
  {
   "cell_type": "markdown",
   "metadata": {},
   "source": [
    "## Types of Conditional Statements"
   ]
  },
  {
   "cell_type": "markdown",
   "metadata": {},
   "source": [
    "**Conditional Statements**\n",
    "\n",
    "|Statement|Description|\n",
    "|--------|----|\n",
    "|if|if the condition is true, execute the indented code block below|\n",
    "|elif|for `if` statements with more than one condition|\n",
    "|else|if all of the `if` and `elif` conditions are not true, execute the code below|\n",
    "\n",
    "\n",
    "**Comparison Operators**\n",
    "\n",
    "|Operator|Name|\n",
    "|--------|----|\n",
    "|==|Equal|\n",
    "|!=|Not Equal|\n",
    "|>|Greater Than|\n",
    "|<|Less Than|\n",
    "|>=|Greater Than or Equal to|\n",
    "|<=|Less Than or Equal to|\n",
    "\n",
    "**Logical Operators**\n",
    "\n",
    "|Operator|Description|\n",
    "|--------|----|\n",
    "|and|Returns True if both statements are true|\t\n",
    "|or|Returns True if one of the statements is true|\t\n",
    "|not|Reverse the result, returns False if the result is true|\n",
    "\n",
    "**Identity Operators**\n",
    "\n",
    "|Operator|Description|\n",
    "|--------|----|\n",
    "|is|Returns True if both variables are the same object|\t\n",
    "|is not|Returns True if both variables are not the same object|\n",
    "\n",
    "**Membership Operators**\n",
    "\n",
    "|Operator|Description|\n",
    "|--------|----|\n",
    "|in|Returns True if a sequence with the specified value is present in the object|\n",
    "|not in|Returns True if a sequence with the specified value is not present in the object|\n"
   ]
  },
  {
   "cell_type": "markdown",
   "metadata": {},
   "source": [
    "Below is a simple example of how we can use these statements and operators to automatically check for certain condtions:"
   ]
  },
  {
   "cell_type": "code",
   "execution_count": 6,
   "metadata": {},
   "outputs": [
    {
     "name": "stdout",
     "output_type": "stream",
     "text": [
      ":(\n"
     ]
    }
   ],
   "source": [
    "my_value = None\n",
    "if my_value is not None:\n",
    "    print('yay!')\n",
    "else:\n",
    "    print(\":(\")"
   ]
  },
  {
   "cell_type": "markdown",
   "metadata": {},
   "source": [
    "## Types of Loops\n",
    "- `for`: Ideal for repeating lines of code for a fixed number of iterations\n",
    "- `while`: Ideal for repeating lines of code for a variable number of iterations. In this case, instead of specifying the number of iterations, we specify a necessary condition.\n",
    "\n",
    "<strong>Note:</strong> Almost always a for loop can be refactored as while loop and vice-versa. However, depending on the situation, one approach may be more intuitive."
   ]
  },
  {
   "cell_type": "code",
   "execution_count": 17,
   "metadata": {},
   "outputs": [
    {
     "name": "stdout",
     "output_type": "stream",
     "text": [
      "0\n",
      "1\n",
      "4\n",
      "9\n",
      "16\n",
      "25\n",
      "36\n",
      "49\n",
      "64\n",
      "81\n"
     ]
    }
   ],
   "source": [
    "for i in range(0,10):\n",
    "    print(i*i)"
   ]
  },
  {
   "cell_type": "markdown",
   "metadata": {},
   "source": [
    "Notice that `i` takes on the values  0,1,2, ..., 8, and 9 during the for loop even though the executed code prints out $i^2$\n"
   ]
  },
  {
   "cell_type": "code",
   "execution_count": 3,
   "metadata": {},
   "outputs": [
    {
     "name": "stdout",
     "output_type": "stream",
     "text": [
      "A pen costs $2.\n",
      "A notebook costs $1.\n",
      "A pencil costs $0.5.\n",
      "A lunch box costs $10.\n"
     ]
    }
   ],
   "source": [
    "items = [('pen', 2), ('notebook', 1), \n",
    "         ('pencil', 0.50), ('lunch box',10)]\n",
    " \n",
    "for item in items:\n",
    "    print(f\"A {item[0]} costs ${item[1]}.\")"
   ]
  },
  {
   "cell_type": "markdown",
   "metadata": {},
   "source": [
    "In this example it appears that the loop ran 4 times, once for each tuple in the list.\n",
    "\n",
    "From these two examples, we see that `for` loops only run `n` times, where `n = len(iterable)`"
   ]
  },
  {
   "cell_type": "markdown",
   "metadata": {},
   "source": [
    "But when will the following `while` loop end?"
   ]
  },
  {
   "cell_type": "code",
   "execution_count": 1,
   "metadata": {},
   "outputs": [
    {
     "name": "stdout",
     "output_type": "stream",
     "text": [
      "sum: 14\n",
      "passkey: 0\n"
     ]
    }
   ],
   "source": [
    "import random\n",
    "sum = 0\n",
    "passkey = random.randint(0,512)\n",
    "while (passkey > 0):\n",
    "    sum = sum + passkey%10\n",
    "    passkey = passkey//10\n",
    "print(\"sum:\", sum)\n",
    "print(\"passkey:\", passkey)"
   ]
  },
  {
   "cell_type": "markdown",
   "metadata": {},
   "source": [
    "Looks like our loop ends when `passkey = 0`! This is the first iteration when the condition `passkey > 0` is no longer met, so the loop ends."
   ]
  },
  {
   "cell_type": "markdown",
   "metadata": {},
   "source": [
    "Also, notice the line `passkey = passkey//10`.  This is overwriting the previous value of `passkey` with a new, smaller one. \n",
    "\n",
    "Without this line, we would be stuck in an infinite loop! "
   ]
  },
  {
   "cell_type": "markdown",
   "metadata": {},
   "source": [
    "## Assignment Operators"
   ]
  },
  {
   "cell_type": "markdown",
   "metadata": {},
   "source": [
    "In the last example, there were two lines where we overwrote variables with values that were calculated using the previous one. \n",
    "\n",
    "Python has a shorthand way to do this called **assignment operators**! \n",
    "\n",
    "It's often necessary to update a variable depending on the iteration, and assignment operators give us an easy way to do this."
   ]
  },
  {
   "cell_type": "code",
   "execution_count": 5,
   "metadata": {},
   "outputs": [
    {
     "name": "stdout",
     "output_type": "stream",
     "text": [
      "\n",
      "Method 1:  1\n",
      "Method 2:  1\n",
      "\n",
      "Method 1:  2\n",
      "Method 2:  2\n",
      "\n",
      "Method 1:  3\n",
      "Method 2:  3\n",
      "\n",
      "Method 1:  4\n",
      "Method 2:  4\n",
      "\n",
      "Method 1:  5\n",
      "Method 2:  5\n"
     ]
    }
   ],
   "source": [
    "# Both methods print the same value!\n",
    "counter1 = 0\n",
    "counter2 = 0\n",
    "for i in range(0,5):\n",
    "    counter1 = counter1 + 1\n",
    "    counter2 += counter2\n",
    "    print(\"\\nMethod 1: \", counter1)\n",
    "    print(\"Method 2: \", counter1)"
   ]
  },
  {
   "cell_type": "markdown",
   "metadata": {},
   "source": [
    "A complete list of the other assignment operators can be found [here](https://www.geeksforgeeks.org/assignment-operators-in-python/)"
   ]
  },
  {
   "cell_type": "markdown",
   "metadata": {},
   "source": [
    "## List Comprehensions\n",
    "List comprehensions are a powerful tool in Python. They allow you to generate a list quickly and easily in one line of code using the same syntax as for loops and conditional statements. \n",
    "\n",
    "The basic formula is:\n",
    "\n",
    "**[( value you want ) for ( value in iterable ) in ( iterable )]**\n",
    "\n",
    "where the iterable is some sort of list, range, etc.\n",
    "\n",
    "Let's see this in action!"
   ]
  },
  {
   "cell_type": "code",
   "execution_count": 4,
   "metadata": {},
   "outputs": [
    {
     "name": "stdout",
     "output_type": "stream",
     "text": [
      "['0', '1', '2', '3', '4', '5', '6', '7', '8', '9']\n"
     ]
    }
   ],
   "source": [
    "list_of_num_str = [str(i) for i in range(10)]\n",
    "print(list_of_num_str)"
   ]
  },
  {
   "cell_type": "code",
   "execution_count": 10,
   "metadata": {},
   "outputs": [
    {
     "name": "stdout",
     "output_type": "stream",
     "text": [
      "[1, 1, 1, 1]\n"
     ]
    }
   ],
   "source": [
    "list_of_ones = [1.0, \"1\", True, str(1)]\n",
    "list_of_ones_int = [int(i) for i in list_of_ones]\n",
    "print(list_of_ones_int)"
   ]
  },
  {
   "cell_type": "markdown",
   "metadata": {},
   "source": [
    "You can also add conditional statements to list comprehensions"
   ]
  },
  {
   "cell_type": "code",
   "execution_count": 3,
   "metadata": {},
   "outputs": [
    {
     "name": "stdout",
     "output_type": "stream",
     "text": [
      "[0, 2, 4, 6, 8]\n"
     ]
    }
   ],
   "source": [
    "list_of_even_ints = [i for i in range(10) if i%2==0]\n",
    "print(list_of_even_ints)"
   ]
  },
  {
   "cell_type": "code",
   "execution_count": 7,
   "metadata": {},
   "outputs": [
    {
     "name": "stdout",
     "output_type": "stream",
     "text": [
      "['skyblue', 'royalblue']\n"
     ]
    }
   ],
   "source": [
    "list_of_colors = [\"red\", \"skyblue\", \"green\", \"yellow\", \"royalblue\", \"brown\"]\n",
    "shades_of_blue = [color for color in list_of_colors if \"blue\" in color]\n",
    "print(shades_of_blue)"
   ]
  }
 ],
 "metadata": {
  "kernelspec": {
   "display_name": "base",
   "language": "python",
   "name": "python3"
  },
  "language_info": {
   "codemirror_mode": {
    "name": "ipython",
    "version": 3
   },
   "file_extension": ".py",
   "mimetype": "text/x-python",
   "name": "python",
   "nbconvert_exporter": "python",
   "pygments_lexer": "ipython3",
   "version": "3.10.13"
  }
 },
 "nbformat": 4,
 "nbformat_minor": 2
}
