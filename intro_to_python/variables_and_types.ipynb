{
 "cells": [
  {
   "cell_type": "markdown",
   "metadata": {},
   "source": [
    "# Introduction to Python: Variables and Data Types"
   ]
  },
  {
   "cell_type": "markdown",
   "metadata": {},
   "source": [
    "### Python Math\n",
    "Let's start with some basics: run the following cells to see what they output\n",
    "\n",
    "Note: a full list of operators supported in python can be found [here](https://www.tutorialspoint.com/python/python_basic_operators.htm)"
   ]
  },
  {
   "cell_type": "code",
   "execution_count": null,
   "metadata": {},
   "outputs": [],
   "source": [
    "2 + 1"
   ]
  },
  {
   "cell_type": "code",
   "execution_count": null,
   "metadata": {},
   "outputs": [],
   "source": [
    "36 - (4 + 1)**2"
   ]
  },
  {
   "cell_type": "markdown",
   "metadata": {},
   "source": [
    "The outputs so far are all **integers** because they are round, whole numbers. \n",
    "\n",
    "What happens when run the previous cell with a decimal?"
   ]
  },
  {
   "cell_type": "code",
   "execution_count": null,
   "metadata": {},
   "outputs": [],
   "source": [
    "36 - (4.0 + 1)**2"
   ]
  },
  {
   "cell_type": "markdown",
   "metadata": {},
   "source": [
    "We get the same answer numerically, but instead of an integer the resulting data type is called a **float**. This is the Pythonic name for a decimal value."
   ]
  },
  {
   "cell_type": "markdown",
   "metadata": {},
   "source": [
    "### Creating a Variable in Python\n"
   ]
  },
  {
   "cell_type": "code",
   "execution_count": 19,
   "metadata": {},
   "outputs": [],
   "source": [
    "a = 1"
   ]
  },
  {
   "cell_type": "code",
   "execution_count": null,
   "metadata": {},
   "outputs": [],
   "source": [
    "a + 1"
   ]
  },
  {
   "cell_type": "markdown",
   "metadata": {},
   "source": [
    "Note that we `a = 1` still. What happens when we assign `a = a + 2`?"
   ]
  },
  {
   "cell_type": "code",
   "execution_count": null,
   "metadata": {},
   "outputs": [],
   "source": [
    "a = a + 2\n",
    "print(a)"
   ]
  },
  {
   "cell_type": "markdown",
   "metadata": {},
   "source": [
    "Now we have overwritten the previous value of a with a new value!"
   ]
  },
  {
   "cell_type": "markdown",
   "metadata": {},
   "source": [
    "#### Beware: Python is case sensitive"
   ]
  },
  {
   "cell_type": "code",
   "execution_count": null,
   "metadata": {},
   "outputs": [],
   "source": [
    "N = 20\n",
    "n = 10\n",
    "print(N, n)"
   ]
  },
  {
   "cell_type": "markdown",
   "metadata": {},
   "source": [
    "#### Best practice: \n",
    "- Make your variable names descriptive! This will be very important later as our scripts get more complex\n",
    "- Python convention is that variables are lower case and long variable names are separated by underscore (for example: `my_variable_name`)"
   ]
  },
  {
   "cell_type": "markdown",
   "metadata": {},
   "source": [
    "### Data Types in Python\n",
    "\n",
    "- **Numeric types:** integer, float\n",
    "- **Text:** string\n",
    "- **Collection of values:** list, array\n",
    "- **Logical:** boolean (pronounced boo-lee-uhn)"
   ]
  },
  {
   "cell_type": "code",
   "execution_count": 3,
   "metadata": {},
   "outputs": [],
   "source": [
    "list_of_ones = [int(\"1\"), 1.0,  1, \"1.0\", bool(1)]"
   ]
  },
  {
   "cell_type": "markdown",
   "metadata": {},
   "source": [
    "Try to guess the output types before running the cell below:"
   ]
  },
  {
   "cell_type": "code",
   "execution_count": null,
   "metadata": {},
   "outputs": [],
   "source": [
    "for value in list_of_ones:\n",
    "    print(type(value))"
   ]
  },
  {
   "cell_type": "markdown",
   "metadata": {},
   "source": [
    "## Part 2: Indexing Variables\n",
    "\n",
    "Lists are defined with square brackets and delineated by commas. \n",
    "\n",
    "They are distinct from another data type called **tuples** which are denoted by ( ) and are immutable (meaning they cannot be changed) once created. \n",
    "\n",
    "Let's learn how to index lists (and variables in general)"
   ]
  },
  {
   "cell_type": "code",
   "execution_count": null,
   "metadata": {},
   "outputs": [],
   "source": [
    "my_list = [5, 6, 7, 8, 9, 10, 11, 12, 13, 14]"
   ]
  },
  {
   "cell_type": "markdown",
   "metadata": {},
   "source": [
    "### SILAS -- Please write up markdown/Python cells as needed to explain the following:\n",
    "- Python starts at index 0\n",
    "- How to index the nth element\n",
    "- How to index from the end of a list (i.e. negative indexing)\n",
    "- How to slice multiple values at once\n",
    "\n",
    "You can use the `my_list` variable as is above, or change the values as you'd like!"
   ]
  },
  {
   "cell_type": "code",
   "execution_count": null,
   "metadata": {},
   "outputs": [],
   "source": []
  },
  {
   "cell_type": "markdown",
   "metadata": {},
   "source": [
    "Great! Now we know how to index a list. We can also apply this to strings and tuples:"
   ]
  },
  {
   "cell_type": "markdown",
   "metadata": {},
   "source": [
    "### SILAS -- Please show that:\n",
    "- Strings can be indexed the same way as lists (and make note that spaces count as characters)\n",
    "- Tuples can be indexed this way too\n",
    "- Show that you can stack indexing (for example, `my_tuple[2] = \"love\"`, so `my_tuple[2][0] = \"l\"`)"
   ]
  },
  {
   "cell_type": "code",
   "execution_count": 15,
   "metadata": {},
   "outputs": [],
   "source": [
    "my_string = \"I love Python!\"\n",
    "my_tuple = (\"I\", \" \", \"love\", \" \", \"Python\", \"!\")"
   ]
  }
 ],
 "metadata": {
  "kernelspec": {
   "display_name": "base",
   "language": "python",
   "name": "python3"
  },
  "language_info": {
   "codemirror_mode": {
    "name": "ipython",
    "version": 3
   },
   "file_extension": ".py",
   "mimetype": "text/x-python",
   "name": "python",
   "nbconvert_exporter": "python",
   "pygments_lexer": "ipython3",
   "version": "3.10.13"
  }
 },
 "nbformat": 4,
 "nbformat_minor": 2
}
