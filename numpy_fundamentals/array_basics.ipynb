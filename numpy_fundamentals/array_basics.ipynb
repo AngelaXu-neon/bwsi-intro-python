{
 "cells": [
  {
   "cell_type": "markdown",
   "metadata": {},
   "source": [
    "# NumPy Fundamentals: Array Basics"
   ]
  },
  {
   "cell_type": "markdown",
   "metadata": {},
   "source": [
    "Until now, we have focused on Python basics and built-in functions. In order to access specific packages, like NumPy, we need to import them like so:"
   ]
  },
  {
   "cell_type": "code",
   "execution_count": 9,
   "metadata": {},
   "outputs": [],
   "source": [
    "# import the numpy as the shorthand np\n",
    "import numpy as np"
   ]
  },
  {
   "cell_type": "markdown",
   "metadata": {},
   "source": [
    "Using a standardized alias like `np` saves us a little bit of time later."
   ]
  },
  {
   "cell_type": "markdown",
   "metadata": {},
   "source": [
    "## NumPy Arrays\n",
    "The most basic data structure in NumPy is an `ndarray`. \n",
    "The name `ndarray` comes from the fact that they can store \"n dimensions\" of data.\n",
    "\n",
    "Lastly, arrays are similar to lists in that they can be indexed with the same syntax; however, unlike lists, NumPy arrays must contain numeric data types. \n",
    "\n",
    "Let's start by defining a simple 1D array, which can also be referred to as a vector:"
   ]
  },
  {
   "cell_type": "code",
   "execution_count": 17,
   "metadata": {},
   "outputs": [
    {
     "name": "stdout",
     "output_type": "stream",
     "text": [
      "<class 'list'>\n",
      "<class 'numpy.ndarray'>\n"
     ]
    }
   ],
   "source": [
    "# Create a vector from a list\n",
    "my_list = [1,2,3,4]\n",
    "my_vector = np.array(my_list)\n",
    "print(type(my_list))\n",
    "print(type(my_vector))"
   ]
  },
  {
   "cell_type": "markdown",
   "metadata": {},
   "source": [
    "Using what we learned from Module 1, we can index the list and the vector exactly the same way:"
   ]
  },
  {
   "cell_type": "code",
   "execution_count": 15,
   "metadata": {},
   "outputs": [
    {
     "name": "stdout",
     "output_type": "stream",
     "text": [
      "The first element of the list: 1\n",
      "The first element of the vector: 1\n"
     ]
    }
   ],
   "source": [
    "# Index the first elements:\n",
    "print(f\"The first element of the list: { my_list[0] }\")\n",
    "print(f\"The first element of the vector: { my_vector[0] }\")"
   ]
  },
  {
   "cell_type": "markdown",
   "metadata": {},
   "source": [
    "### Silas -- Please write/demonstrate the following:\n",
    "1. Introduce 2D indexing and connect it back to how we learned `[][]` syntax in the Module 1 lecture\n",
    "2. Show basic 2D slicing\n",
    "3. Modifying elements by indexing them still works the same for 2D arrays"
   ]
  },
  {
   "cell_type": "code",
   "execution_count": 7,
   "metadata": {},
   "outputs": [
    {
     "ename": "NameError",
     "evalue": "name 'np' is not defined",
     "output_type": "error",
     "traceback": [
      "\u001b[0;31m---------------------------------------------------------------------------\u001b[0m",
      "\u001b[0;31mNameError\u001b[0m                                 Traceback (most recent call last)",
      "Cell \u001b[0;32mIn[7], line 2\u001b[0m\n\u001b[1;32m      1\u001b[0m my_nested_list \u001b[38;5;241m=\u001b[39m [[\u001b[38;5;241m5\u001b[39m,\u001b[38;5;241m6\u001b[39m], [\u001b[38;5;241m7\u001b[39m,\u001b[38;5;241m8\u001b[39m]]\n\u001b[0;32m----> 2\u001b[0m my_2d_array \u001b[38;5;241m=\u001b[39m \u001b[43mnp\u001b[49m\u001b[38;5;241m.\u001b[39marray(my_nested_list)\n\u001b[1;32m      3\u001b[0m \u001b[38;5;28mprint\u001b[39m(my_2d_array)\n",
      "\u001b[0;31mNameError\u001b[0m: name 'np' is not defined"
     ]
    }
   ],
   "source": [
    "my_nested_list = [[5,6], [7,8]]\n",
    "my_2d_array = np.array(my_nested_list)\n",
    "print(my_2d_array)"
   ]
  },
  {
   "cell_type": "markdown",
   "metadata": {},
   "source": [
    "### Silas -- Please write/demonstrate the following:\n",
    "1. Introduce 3D indexing\n",
    "2. Show basic 3D slicing\n",
    "2. Modifying elements by indexing them still works the same for 3D arrays"
   ]
  },
  {
   "cell_type": "code",
   "execution_count": 29,
   "metadata": {},
   "outputs": [
    {
     "name": "stdout",
     "output_type": "stream",
     "text": [
      "[[[ 5  6]\n",
      "  [ 7  8]]\n",
      "\n",
      " [[ 9 10]\n",
      "  [11 12]]]\n"
     ]
    }
   ],
   "source": [
    "my_3d_array = np.array([my_nested_list, [[9,10], [11,12]]])\n",
    "print(my_3d_array)"
   ]
  },
  {
   "cell_type": "markdown",
   "metadata": {},
   "source": [
    "## Doing Math With Arrays"
   ]
  },
  {
   "cell_type": "markdown",
   "metadata": {},
   "source": [
    "### Peter -- Please show the following:\n",
    "1. scalar multiplication of a simple vector\n",
    "2. introduce basic vector/elementwise math by showing: \n",
    "    - `u * u = u**2`\n",
    "    - `u * v` = ???\n",
    "    - `v/u` = ???"
   ]
  },
  {
   "cell_type": "code",
   "execution_count": 22,
   "metadata": {},
   "outputs": [],
   "source": [
    "u = np.array([1,2,3])\n",
    "v = np.array([5,10,15])"
   ]
  },
  {
   "cell_type": "markdown",
   "metadata": {},
   "source": [
    "## Common Array Constructors"
   ]
  },
  {
   "cell_type": "markdown",
   "metadata": {},
   "source": [
    "### Peter -- Please demonstrate the functionality and use cases for the following `np.array` constructors:\n",
    "- `np.zeros()`\n",
    "- `np.ones()`\n",
    "- `np.identity()` and explain what an identity matrix is \n",
    "- `np.nan()` and explain what `np.nan`/`NaN` is \n",
    "- `np.empty()` and highlight that the output is not exactly zero\n",
    "- `np.full()`\n",
    "- `np.tile()`\n",
    "\n",
    "Lastly, please compare `np.linspace` vs. `arange` vs. `range()`"
   ]
  },
  {
   "cell_type": "markdown",
   "metadata": {},
   "source": [
    "## Determining Matrix Size"
   ]
  },
  {
   "cell_type": "markdown",
   "metadata": {},
   "source": [
    "### Abby -- Please write markdown/Python cells as necessary:\n",
    "- introduce the `len()` function for lists\n",
    "- show and eplain why: `len(my_list) = len(my_vector)` but `len(my_nested_list) != len(my_2d_array)`\n",
    "- highlight the purpose and differences between the array methods `.shape()` and `.size()`\n"
   ]
  },
  {
   "cell_type": "markdown",
   "metadata": {},
   "source": [
    "The `len()` function in Python is short for \"length\" and this function will return the number of items in a list. Let's see a quick example: "
   ]
  },
  {
   "cell_type": "code",
   "execution_count": 1,
   "metadata": {},
   "outputs": [
    {
     "name": "stdout",
     "output_type": "stream",
     "text": [
      "3\n"
     ]
    }
   ],
   "source": [
    "my_list = [1, 2, 3]\n",
    "my_list_length = len(my_list)\n",
    "\n",
    "print(my_list_length)"
   ]
  },
  {
   "cell_type": "markdown",
   "metadata": {},
   "source": [
    "Now in addition to `my_list`, let's create `my_vector`. The `len()` function will work the same way with both lists and list-representations of vectors like `my_vector`. The code below should return the same values for `my_list` and `my_vector` because they're the same length:"
   ]
  },
  {
   "cell_type": "code",
   "execution_count": 20,
   "metadata": {},
   "outputs": [
    {
     "name": "stdout",
     "output_type": "stream",
     "text": [
      "List length: 3\n",
      "Vector length: 3\n"
     ]
    }
   ],
   "source": [
    "my_vector = [4, 5, 6]\n",
    "\n",
    "list_length = len(my_list)\n",
    "vector_length = len(my_vector)\n",
    "\n",
    "print(f\"List length: {list_length}\")\n",
    "print(f\"Vector length: {vector_length}\")"
   ]
  },
  {
   "cell_type": "markdown",
   "metadata": {},
   "source": [
    "What happens if we use the `len()` function on a nested list? In this case, the function does not care about the contents of the nested lists. It will treat the nested lists like any other element type. Here's an example where we have a list containing three nested lists:"
   ]
  },
  {
   "cell_type": "code",
   "execution_count": 10,
   "metadata": {},
   "outputs": [
    {
     "name": "stdout",
     "output_type": "stream",
     "text": [
      "3\n"
     ]
    }
   ],
   "source": [
    "my_nested_list = [[1, 2], [3, 4, 5], [6]]\n",
    "print(len(my_nested_list))"
   ]
  },
  {
   "cell_type": "markdown",
   "metadata": {},
   "source": [
    "Even though there are 6 `int` elements total in the nested list, the length is 3 because we are counting just the nested lists. If we want the length of an individual nested list, we can specify which nested list and print that using the following code:"
   ]
  },
  {
   "cell_type": "code",
   "execution_count": 11,
   "metadata": {},
   "outputs": [
    {
     "name": "stdout",
     "output_type": "stream",
     "text": [
      "2\n",
      "3\n",
      "1\n"
     ]
    }
   ],
   "source": [
    "print(len(my_nested_list[0]))   # Length of the first nested list in my_nested_list\n",
    "print(len(my_nested_list[1]))   # Length of the second nested list\n",
    "print(len(my_nested_list[2]))   # Length of the third nested list"
   ]
  },
  {
   "cell_type": "markdown",
   "metadata": {},
   "source": [
    "How will `len()` work with a 2D array?"
   ]
  },
  {
   "cell_type": "code",
   "execution_count": 19,
   "metadata": {},
   "outputs": [
    {
     "name": "stdout",
     "output_type": "stream",
     "text": [
      "Nested list length: 2\n",
      "2D array length: 2\n"
     ]
    }
   ],
   "source": [
    "my_nested_list = [[1, 2], [3, 4]]\n",
    "my_2d_array = np.array(my_nested_list)\n",
    "\n",
    "print(f\"Nested list length: {len(my_nested_list)}\")\n",
    "print(f\"2D array length: {len(my_2d_array)}\")"
   ]
  }
 ],
 "metadata": {
  "kernelspec": {
   "display_name": "base",
   "language": "python",
   "name": "python3"
  },
  "language_info": {
   "codemirror_mode": {
    "name": "ipython",
    "version": 3
   },
   "file_extension": ".py",
   "mimetype": "text/x-python",
   "name": "python",
   "nbconvert_exporter": "python",
   "pygments_lexer": "ipython3",
   "version": "3.12.0"
  }
 },
 "nbformat": 4,
 "nbformat_minor": 2
}
