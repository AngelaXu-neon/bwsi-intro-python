{
 "cells": [
  {
   "cell_type": "markdown",
   "metadata": {},
   "source": [
    "# Software Development: Documentation and Errors"
   ]
  },
  {
   "cell_type": "markdown",
   "metadata": {},
   "source": [
    "## Type Hinting"
   ]
  },
  {
   "cell_type": "markdown",
   "metadata": {},
   "source": [
    "### Abby -- Please introduce:\n",
    "- syntax and concept of type hinting\n",
    "- why type hinting is helpful\n",
    "- examples as needed!\n",
    "\n",
    "Feel free to reference the solution to this week's independent assignment. I have type hinted all of the skeleton code for consistency."
   ]
  },
  {
   "cell_type": "markdown",
   "metadata": {},
   "source": [
    "## Error Messages"
   ]
  },
  {
   "cell_type": "markdown",
   "metadata": {},
   "source": [
    "### Silas -- Please fill in the table below and add some initial preamble\n",
    "\n",
    "\n",
    "|Error Type|Occurs When...|\n",
    "|------------|-----|\n",
    "|NameError|   |\n",
    "|TypeError|   |\n",
    "|IndexError|   |\n",
    "|IndentationError|   |\n",
    "|FileNotFound|   |"
   ]
  },
  {
   "cell_type": "markdown",
   "metadata": {},
   "source": [
    "### Silas -- Please write:\n",
    "- some purposely erroneous code cells\n",
    "- talk about why they occur\n",
    "- explain how we can use the error messages to debug the issue \n",
    "\n",
    "Feel free to write examples beyond the list above."
   ]
  },
  {
   "cell_type": "markdown",
   "metadata": {},
   "source": [
    "## Exceptions"
   ]
  },
  {
   "cell_type": "markdown",
   "metadata": {},
   "source": [
    "### Shreya -- Please talk about exceptions and how they differ from errors!"
   ]
  },
  {
   "cell_type": "markdown",
   "metadata": {},
   "source": [
    "### `try` and `except`"
   ]
  },
  {
   "cell_type": "markdown",
   "metadata": {},
   "source": [
    "### Shreya -- Please introduce the idea of `try` and `except`, specifically:\n",
    "- why we use them\n",
    "- note that they should not be used to make actually broken code \"just work\"\n",
    "\n",
    "A simple example is written below, but please add some of your own!"
   ]
  },
  {
   "cell_type": "code",
   "execution_count": 1,
   "metadata": {},
   "outputs": [
    {
     "name": "stdout",
     "output_type": "stream",
     "text": [
      "You cannot divide by zero.\n"
     ]
    }
   ],
   "source": [
    "try:\n",
    "    x = int(input(\"Enter a number: \"))\n",
    "    y = 10 / x\n",
    "    print(\"The result is:\", y)\n",
    "except ValueError:\n",
    "    print(\"You must enter a valid integer.\")\n",
    "except ZeroDivisionError:\n",
    "    print(\"You cannot divide by zero.\")"
   ]
  },
  {
   "cell_type": "markdown",
   "metadata": {},
   "source": [
    "An additional reference about errors and exceptions can be accessed [here](https://www.geeksforgeeks.org/errors-and-exceptions-in-python/)"
   ]
  }
 ],
 "metadata": {
  "kernelspec": {
   "display_name": "base",
   "language": "python",
   "name": "python3"
  },
  "language_info": {
   "codemirror_mode": {
    "name": "ipython",
    "version": 3
   },
   "file_extension": ".py",
   "mimetype": "text/x-python",
   "name": "python",
   "nbconvert_exporter": "python",
   "pygments_lexer": "ipython3",
   "version": "3.10.13"
  }
 },
 "nbformat": 4,
 "nbformat_minor": 2
}
