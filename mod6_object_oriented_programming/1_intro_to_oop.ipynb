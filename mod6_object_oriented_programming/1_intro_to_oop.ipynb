{
 "cells": [
  {
   "cell_type": "markdown",
   "metadata": {},
   "source": [
    "# Object Oriented Programming: Introduction to OOP"
   ]
  },
  {
   "cell_type": "markdown",
   "metadata": {},
   "source": [
    "## What is Object Oriented Programming (OOP)?\n",
    "\n",
    "### Abby -- Please write up markdown/code cells as needed:\n",
    "1. what is an object? please reference the basic data types as examples!\n",
    "2. what is an instance of an object? ex: the class `str` vs. the variable `greeting = \"hello\"`"
   ]
  },
  {
   "cell_type": "markdown",
   "metadata": {},
   "source": [
    "## Defining custom objects in Python"
   ]
  },
  {
   "cell_type": "markdown",
   "metadata": {},
   "source": [
    "### Abby -- please expand on the basic syntax of a class:\n",
    "1. `class` keyword -- most basic class just has class name, docstring, and nothing else\n",
    "    \n",
    "    ```python\n",
    "    class ExampleClass:\n",
    "        \"\"\"This is a basic example of a class.\"\"\"\n",
    "        pass\n",
    "    ```\n",
    "2. best practices:\n",
    "    - CamelCase for class names\n",
    "    - Descriptive class names/docstrings\n",
    "    - Beware of indentation levels and remember to use colons before starting a new indented code block\n"
   ]
  },
  {
   "cell_type": "markdown",
   "metadata": {},
   "source": [
    "## Attributes"
   ]
  },
  {
   "cell_type": "markdown",
   "metadata": {},
   "source": [
    "### Abby -- please describe what is an attribute? \n",
    "\n",
    "Feel free to extend the example I started below!"
   ]
  },
  {
   "cell_type": "code",
   "execution_count": 28,
   "metadata": {},
   "outputs": [],
   "source": [
    "class PythonInstructor:\n",
    "    \"\"\"Class representing the Python instructor Shreya.\"\"\"\n",
    "    name = \"Abby\"\n"
   ]
  },
  {
   "cell_type": "code",
   "execution_count": 37,
   "metadata": {},
   "outputs": [
    {
     "name": "stdout",
     "output_type": "stream",
     "text": [
      "Abby teaches Python\n"
     ]
    }
   ],
   "source": [
    "python_teacher = PythonInstructor()\n",
    "print(f\"{python_teacher.name} teaches Python\")"
   ]
  },
  {
   "cell_type": "markdown",
   "metadata": {},
   "source": [
    "## Methods"
   ]
  },
  {
   "cell_type": "markdown",
   "metadata": {},
   "source": [
    "### Shreya -- please describe and provide examples as necessary:\n",
    "1. what is a method?\n",
    "    - similar to functions **but** attached the class\n",
    "    - we will look at the differences between methods and functions in the independent assignment this week!\n",
    "\n",
    "2. `__init__` method: \n",
    "\n",
    "    - special type of method in almost all classes\n",
    "    - not called directly, always runs whenever a new instance is created\n",
    "\n",
    "    ```python\n",
    "    class ExampleClass:\n",
    "        \"\"\"This is a basic example of a class.\"\"\"\n",
    "        \n",
    "        def __init__():\n",
    "            \"\"\"Do nothing when new instance is created.\"\"\"\n",
    "            pass\n",
    "    ```\n",
    "3. syntax/best practices: \n",
    "    - lower snake case (e.g. `ExampleClass.my_method_name()`)\n",
    "    - called for a specific instance with the syntax `my_instance_name.method_name()`\n",
    "    - if calling another method in the class definition, then syntax is `self.method_name()`"
   ]
  },
  {
   "cell_type": "markdown",
   "metadata": {},
   "source": [
    "## Using the `self` Attribute"
   ]
  },
  {
   "cell_type": "markdown",
   "metadata": {},
   "source": [
    "### Shreya -- Please introduce the `self` attribute:\n",
    "- used to access variables visible to all methods that are attached to the class itself\n",
    "- see example below: we can write more generalized code by using the `__init__` method to set attributes using `self`\n",
    "- the `self` attribute is *the* key to OOP! "
   ]
  },
  {
   "cell_type": "code",
   "execution_count": 30,
   "metadata": {},
   "outputs": [],
   "source": [
    "class CodingInstructor:\n",
    "    \"\"\"Class representing a coding instructor.\"\"\"\n",
    "    \n",
    "    def __init__(self, name, programming_language):\n",
    "        \"\"\"Store the instructor's name and programming language as attributes.\"\"\"\n",
    "        self.name = name\n",
    "        self.programming_language = programming_language\n"
   ]
  },
  {
   "cell_type": "code",
   "execution_count": 36,
   "metadata": {},
   "outputs": [
    {
     "name": "stdout",
     "output_type": "stream",
     "text": [
      "Shreya teaches Python\n",
      "Peter teaches Julia\n"
     ]
    }
   ],
   "source": [
    "coding_teacher1 = CodingInstructor(\"Shreya\", \"Python\")\n",
    "print(f\"{coding_teacher1.name} teaches {coding_teacher1.programming_language}\")\n",
    "\n",
    "coding_teacher2 = CodingInstructor(\"Peter\", \"Julia\")\n",
    "print(f\"{coding_teacher2.name} teaches {coding_teacher2.programming_language}\")"
   ]
  }
 ],
 "metadata": {
  "kernelspec": {
   "display_name": "base",
   "language": "python",
   "name": "python3"
  },
  "language_info": {
   "codemirror_mode": {
    "name": "ipython",
    "version": 3
   },
   "file_extension": ".py",
   "mimetype": "text/x-python",
   "name": "python",
   "nbconvert_exporter": "python",
   "pygments_lexer": "ipython3",
   "version": "3.10.13"
  }
 },
 "nbformat": 4,
 "nbformat_minor": 2
}
