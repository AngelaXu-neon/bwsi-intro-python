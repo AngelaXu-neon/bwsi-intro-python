{
 "cells": [
  {
   "cell_type": "markdown",
   "metadata": {},
   "source": "# Object Oriented Programming: Introduction to OOP"
  },
  {
   "metadata": {},
   "cell_type": "markdown",
   "source": [
    "### What is Object Oriented Programming (OOP)?<br>\n",
    "\n",
    "\n",
    "#### Objects\n",
    "An `object` is a collection of data and methods. Objects can be used to represent complex, real-world entities.\n",
    "\n",
    "In Python, all data types are considered as objects, including the types we have already seen like integers, strings, and lists. \n",
    "\n",
    "For example, a `string` object is a collection of `characters` and has methods such as `.upper()` that we can call on the object. Likewise, `lists` are collections of data with methods like `.append()`."
   ]
  },
  {
   "metadata": {},
   "cell_type": "markdown",
   "source": [
    "#### Classes and Instances\n",
    "\n",
    "An object is defined by a **class**. A class is like a blueprint for the object we want to create. \n",
    "\n",
    "An **instance** of an object is a specific example of an object. When you create a variable and assign it a value, you are creating an instance of that type (or class). For example, if you create a variable `greeting` and set it to `\"hello\"`, then `greeting` becomes an instance of the `str` class."
   ]
  },
  {
   "metadata": {
    "ExecuteTime": {
     "end_time": "2024-11-13T21:28:44.142588Z",
     "start_time": "2024-11-13T21:28:44.139804Z"
    }
   },
   "cell_type": "code",
   "source": [
    "# greeting is an instance of the class str (string)\n",
    "greeting = 'hello world'\n",
    "\n",
    "print(type(greeting))\n",
    "print(greeting)"
   ],
   "outputs": [
    {
     "name": "stdout",
     "output_type": "stream",
     "text": [
      "<class 'str'>\n",
      "hello world\n"
     ]
    }
   ],
   "execution_count": 7
  },
  {
   "cell_type": "markdown",
   "metadata": {},
   "source": [
    "## Defining Custom Objects in Python\n",
    "\n",
    "To create a custom object, we use the `class` keyword. The most basic class just has the class name, docstring, and nothing else. We can declare a class like this:"
   ]
  },
  {
   "cell_type": "markdown",
   "metadata": {},
   "source": [
    "    ```\n",
    "    class ExampleClass:\n",
    "        \"\"\"This is a basic example of a class.\"\"\"\n",
    "        pass\n",
    "    ```\n",
    "\n",
    "In this example, \n",
    "- `ExampleClass` is the class name.\n",
    "- The docstring `\"\"\"This is a basic example of a class\"\"\"` provides a description of what the class represents.\n",
    "- `pass` is used as a placeholder for where we would put the actual functionality for a class.  \n",
    "\n",
    "#### Best Practices to Use for Creating Classes\n",
    "\n",
    "- Class names use **CamelCase**, meaning each word in the name is capitalized and no underscores are used.\n",
    "- Class names should be descriptive and convey the purpose of the class. Docstrings are written directly under the class declaration and provide further clarity. \n",
    "- Beware of colons and indentation. Anything indented after the colon in the class declaration will be part of the class. \n"
   ]
  },
  {
   "cell_type": "markdown",
   "metadata": {},
   "source": [
    "## Attributes"
   ]
  },
  {
   "cell_type": "markdown",
   "metadata": {},
   "source": [
    "#### What is an attribute? \n",
    "\n",
    "An attribute in a class is a variable that holds data specific to the class. Attributes define the **properties** of an object and help to describe its behavior.\n",
    "\n",
    "There are two types of attributes:\n",
    "1. **Class attributes**: shared across all instances of a class. They are defined within the class declaration. \n",
    "2. **Instance attributes**: unique to a specific instance of an object, usually defined within the `__init__` method (short for \"initialize\"). Instance attributes can differ from object to object. \n",
    "\n",
    "In the example below, `name` and `major` are *class attributes* because they are defined directly in the class and apply to all instances of `PythonInstructor` objects. "
   ]
  },
  {
   "cell_type": "code",
   "metadata": {
    "ExecuteTime": {
     "end_time": "2024-11-13T21:23:30.666811Z",
     "start_time": "2024-11-13T21:23:30.663515Z"
    }
   },
   "source": [
    "class PythonInstructor:\n",
    "    \"\"\"Class representing a Python instructor.\"\"\"\n",
    "    name = \"Abby\"\n",
    "    major = \"Computer Science\"\n"
   ],
   "outputs": [],
   "execution_count": 5
  },
  {
   "cell_type": "code",
   "metadata": {
    "ExecuteTime": {
     "end_time": "2024-11-13T21:30:39.732224Z",
     "start_time": "2024-11-13T21:30:39.728493Z"
    }
   },
   "source": [
    "# `python_teacher` is an instance of our class `PythonInstructor`\n",
    "python_teacher = PythonInstructor()\n",
    "\n",
    "# Get the name and major attributes for our `python_instructor` object\n",
    "python_teacher_name = python_teacher.name\n",
    "python_teacher_major = python_teacher.major\n",
    "\n",
    "print(f\"{python_teacher_name} teaches Python and their major is {python_teacher_major}.\")"
   ],
   "outputs": [
    {
     "name": "stdout",
     "output_type": "stream",
     "text": [
      "Abby teaches Python and their major is Computer Science.\n"
     ]
    }
   ],
   "execution_count": 8
  },
  {
   "cell_type": "markdown",
   "metadata": {},
   "source": [
    "## Methods"
   ]
  },
  {
   "cell_type": "markdown",
   "metadata": {},
   "source": [
    "### Shreya -- please describe and provide examples as necessary:\n",
    "1. what is a method?\n",
    "    - similar to functions **but** attached the class\n",
    "    - we will look at the differences between methods and functions in the independent assignment this week!\n",
    "\n",
    "2. `__init__` method: \n",
    "\n",
    "    - special type of method in almost all classes\n",
    "    - not called directly, always runs whenever a new instance is created\n",
    "\n",
    "    ```python\n",
    "    class ExampleClass:\n",
    "        \"\"\"This is a basic example of a class.\"\"\"\n",
    "        \n",
    "        def __init__():\n",
    "            \"\"\"Do nothing when new instance is created.\"\"\"\n",
    "            pass\n",
    "    ```\n",
    "3. syntax/best practices: \n",
    "    - lower snake case (e.g. `ExampleClass.my_method_name()`)\n",
    "    - called for a specific instance with the syntax `my_instance_name.method_name()`\n",
    "    - if calling another method in the class definition, then syntax is `self.method_name()`"
   ]
  },
  {
   "cell_type": "markdown",
   "metadata": {},
   "source": [
    "## Using the `self` Attribute"
   ]
  },
  {
   "cell_type": "markdown",
   "metadata": {},
   "source": [
    "### Shreya -- Please introduce the `self` attribute:\n",
    "- used to access variables visible to all methods that are attached to the class itself\n",
    "- see example below: we can write more generalized code by using the `__init__` method to set attributes using `self`\n",
    "- the `self` attribute is *the* key to OOP! "
   ]
  },
  {
   "cell_type": "code",
   "metadata": {},
   "source": [
    "class CodingInstructor:\n",
    "    \"\"\"Class representing a coding instructor.\"\"\"\n",
    "    \n",
    "    def __init__(self, name, programming_language):\n",
    "        \"\"\"Store the instructor's name and programming language as attributes.\"\"\"\n",
    "        self.name = name\n",
    "        self.programming_language = programming_language\n"
   ],
   "outputs": [],
   "execution_count": null
  },
  {
   "cell_type": "code",
   "metadata": {},
   "source": [
    "coding_teacher1 = CodingInstructor(\"Shreya\", \"Python\")\n",
    "print(f\"{coding_teacher1.name} teaches {coding_teacher1.programming_language}\")\n",
    "\n",
    "coding_teacher2 = CodingInstructor(\"Peter\", \"Julia\")\n",
    "print(f\"{coding_teacher2.name} teaches {coding_teacher2.programming_language}\")"
   ],
   "outputs": [],
   "execution_count": null
  }
 ],
 "metadata": {
  "kernelspec": {
   "display_name": "base",
   "language": "python",
   "name": "python3"
  },
  "language_info": {
   "codemirror_mode": {
    "name": "ipython",
    "version": 3
   },
   "file_extension": ".py",
   "mimetype": "text/x-python",
   "name": "python",
   "nbconvert_exporter": "python",
   "pygments_lexer": "ipython3",
   "version": "3.10.13"
  }
 },
 "nbformat": 4,
 "nbformat_minor": 2
}
