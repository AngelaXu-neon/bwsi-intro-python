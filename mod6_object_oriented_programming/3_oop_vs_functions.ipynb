{
 "cells": [
  {
   "cell_type": "markdown",
   "metadata": {},
   "source": [
    "# Object Oriented Programming: OOP vs. Functions"
   ]
  },
  {
   "cell_type": "markdown",
   "metadata": {},
   "source": [
    "### Object Oriented Programming (OOP) \n",
    "\n",
    "Best used in applications with complex interactions between different objects. This paradigm focuses on modeling real-world entities as objects. Stored data and access to that data is bundled with the the behavior (methods) for that object.\n",
    "\n",
    "**When to use:** When modeling complex systems with clear entities and relationships."
   ]
  },
  {
   "cell_type": "markdown",
   "metadata": {},
   "source": [
    "### Functional Programming (FP) \n",
    "Best used in applications that are data intensive and require a lot of transformations of that data. With FP, functions are treated as *first-class citizens* meaning that they can be passed as arguments as well as returned from functions. The functions and the data are treated separately.\n",
    "\n",
    "An example would be a function that returns an acceleration and velocity function given the state of a system. This is useful in physics.\n",
    "\n",
    "**When to use:** When focusing on a single task like data manipulation, transformations, and avoiding side effects."
   ]
  },
  {
   "cell_type": "markdown",
   "metadata": {},
   "source": [
    "### Q.1 Hypothesize and describe 1-2 examples of use cases for OOP."
   ]
  },
  {
   "cell_type": "markdown",
   "metadata": {},
   "source": [
    "### A.1 YOUR ANSWER HERE"
   ]
  },
  {
   "cell_type": "markdown",
   "metadata": {},
   "source": [
    "### Q.2 Hypothesize and describe 1-2 examples of use cases for FP."
   ]
  },
  {
   "cell_type": "markdown",
   "metadata": {},
   "source": [
    "### A.2 YOUR ANSWER HERE"
   ]
  },
  {
   "cell_type": "markdown",
   "metadata": {},
   "source": [
    "## One Problem, Two Implementations"
   ]
  },
  {
   "cell_type": "markdown",
   "metadata": {},
   "source": [
    "Python allows you to mix and match paradigms. The following two questions will explore how you can use the different paradigms to obtain the same results.\n",
    "\n",
    "Please test your soluttions using a rectangle with $l = 10$ and $w = 5$."
   ]
  },
  {
   "cell_type": "markdown",
   "metadata": {},
   "source": [
    "### Q.3 Using OOP, compute the area and perimeter of the rectangle described above."
   ]
  },
  {
   "cell_type": "code",
   "execution_count": 1,
   "metadata": {},
   "outputs": [],
   "source": [
    "# YOUR ANSWER HERE\n",
    "\n",
    "# define a class `Rectangle` to store `length` and `width`\n",
    "\n",
    "# add method to calculate area\n",
    "\n",
    "# add method to calculate perimeter\n",
    "\n",
    "# print the results of these methods for the described rectangle"
   ]
  },
  {
   "cell_type": "markdown",
   "metadata": {},
   "source": [
    "### Q.4 Using FP, compute the area and perimeter of the rectangle described above."
   ]
  },
  {
   "cell_type": "code",
   "execution_count": 2,
   "metadata": {},
   "outputs": [],
   "source": [
    "# YOUR ANSWER HERE\n",
    "\n",
    "# define function to calculate area\n",
    "\n",
    "# define function to calculate perimeter\n",
    "\n",
    "# print the results of these functions for the described rectangle"
   ]
  },
  {
   "cell_type": "markdown",
   "metadata": {},
   "source": [
    "### Initializing Attributes in `init`\n",
    "\n",
    "One of the main advantages of OOP is the ability to call methods and store their results as attributes for later. We can also leverage the fact that classes have access to all of their methods to make these variable assignments simpler. \n",
    "\n",
    "Let's explore how we can save the outputs from `calculate_area` and `calculate_perimeter` as attributes to access later."
   ]
  },
  {
   "cell_type": "markdown",
   "metadata": {},
   "source": [
    "### Q.5 Copy your solution from Q.3, then modify it such that `self.area` and `self.perimeter` are set inside the `init` method using the appropriate methods"
   ]
  },
  {
   "cell_type": "code",
   "execution_count": 3,
   "metadata": {},
   "outputs": [],
   "source": [
    "# YOUR ANSWER HERE\n",
    "\n",
    "# define a class `Rectangle` to store `length` and `width`\n",
    "# set `area` and `perimeter` attributes by calling the appropriate method\n",
    "\n",
    "# add method to calculate area\n",
    "\n",
    "# add method to calculate perimeter\n",
    "\n",
    "# print the `area` and `perimeter` attributes for the described rectangle"
   ]
  }
 ],
 "metadata": {
  "kernelspec": {
   "display_name": "base",
   "language": "python",
   "name": "python3"
  },
  "language_info": {
   "codemirror_mode": {
    "name": "ipython",
    "version": 3
   },
   "file_extension": ".py",
   "mimetype": "text/x-python",
   "name": "python",
   "nbconvert_exporter": "python",
   "pygments_lexer": "ipython3",
   "version": "3.10.13"
  }
 },
 "nbformat": 4,
 "nbformat_minor": 2
}
